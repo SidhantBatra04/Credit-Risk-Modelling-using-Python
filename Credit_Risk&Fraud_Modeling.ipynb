{
 "cells": [
  {
   "cell_type": "markdown",
   "metadata": {
    "tags": []
   },
   "source": [
    "<a id=\"section-one\"></a>\n",
    "# Introduction\n",
    "**This dataset was taken from the DataCamp. It contains  32581 observations with 12 variables, which are:**\n",
    "\n",
    "****************************************\n",
    "person_age\n",
    "****************************************\n",
    "person_income\n",
    "****************************************\n",
    "person_home_ownership\n",
    "****************************************\n",
    "person_emp_length\n",
    "****************************************\n",
    "loan_intent\n",
    "****************************************\n",
    "loan_grade\n",
    "****************************************\n",
    "loan_amnt\n",
    "****************************************\n",
    "loan_int_rate\n",
    "****************************************\n",
    "loan_status(Dependent Variable/Target)\n",
    "****************************************\n",
    "loan_percent_income\n",
    "****************************************\n",
    "cb_person_default_on_file\n",
    "****************************************\n",
    "cb_person_cred_hist_length\n",
    "****************************************\n",
    "![Credit Risk Word Cloud](credit-risk-word-cloud-collage-260nw-1167365344.webp)"
   ]
  },
  {
   "cell_type": "code",
   "execution_count": 174,
   "metadata": {
    "tags": []
   },
   "outputs": [],
   "source": [
    "import pandas as pd\n",
    "import numpy as np\n",
    "import seaborn as sns\n",
    "import matplotlib.pyplot as plt\n",
    "from sklearn.linear_model import LogisticRegression\n",
    "from sklearn.metrics import accuracy_score, roc_auc_score, confusion_matrix, classification_report, RocCurveDisplay, roc_auc_score\n",
    "from sklearn.model_selection import train_test_split, cross_validate, KFold\n",
    "import xgboost as xgb\n",
    "from sklearn.model_selection import GridSearchCV, cross_validate, RandomizedSearchCV, validation_curve, cross_val_score\n",
    "from sklearn.calibration import calibration_curve\n",
    "import warnings\n",
    "import optuna\n",
    "from optuna import Trial, visualization\n",
    "from optuna.samplers import TPESampler\n",
    "\n",
    "#adjustments\n",
    "pd.set_option('display.max_columns', None)\n",
    "warnings.simplefilter(action='ignore', category=Warning)\n",
    "pd.set_option('display.float_format', lambda x: '%.5f' % x)"
   ]
  },
  {
   "cell_type": "code",
   "execution_count": 25,
   "metadata": {
    "tags": []
   },
   "outputs": [
    {
     "data": {
      "text/html": [
       "<div>\n",
       "<style scoped>\n",
       "    .dataframe tbody tr th:only-of-type {\n",
       "        vertical-align: middle;\n",
       "    }\n",
       "\n",
       "    .dataframe tbody tr th {\n",
       "        vertical-align: top;\n",
       "    }\n",
       "\n",
       "    .dataframe thead th {\n",
       "        text-align: right;\n",
       "    }\n",
       "</style>\n",
       "<table border=\"1\" class=\"dataframe\">\n",
       "  <thead>\n",
       "    <tr style=\"text-align: right;\">\n",
       "      <th></th>\n",
       "      <th>person_age</th>\n",
       "      <th>person_income</th>\n",
       "      <th>person_home_ownership</th>\n",
       "      <th>person_emp_length</th>\n",
       "      <th>loan_intent</th>\n",
       "      <th>loan_grade</th>\n",
       "      <th>loan_amnt</th>\n",
       "      <th>loan_int_rate</th>\n",
       "      <th>loan_status</th>\n",
       "      <th>loan_percent_income</th>\n",
       "      <th>cb_person_default_on_file</th>\n",
       "      <th>cb_person_cred_hist_length</th>\n",
       "    </tr>\n",
       "  </thead>\n",
       "  <tbody>\n",
       "    <tr>\n",
       "      <th>0</th>\n",
       "      <td>22</td>\n",
       "      <td>59000</td>\n",
       "      <td>RENT</td>\n",
       "      <td>123.00000</td>\n",
       "      <td>PERSONAL</td>\n",
       "      <td>D</td>\n",
       "      <td>35000</td>\n",
       "      <td>16.02000</td>\n",
       "      <td>1</td>\n",
       "      <td>0.59000</td>\n",
       "      <td>Y</td>\n",
       "      <td>3</td>\n",
       "    </tr>\n",
       "    <tr>\n",
       "      <th>1</th>\n",
       "      <td>21</td>\n",
       "      <td>9600</td>\n",
       "      <td>OWN</td>\n",
       "      <td>5.00000</td>\n",
       "      <td>EDUCATION</td>\n",
       "      <td>B</td>\n",
       "      <td>1000</td>\n",
       "      <td>11.14000</td>\n",
       "      <td>0</td>\n",
       "      <td>0.10000</td>\n",
       "      <td>N</td>\n",
       "      <td>2</td>\n",
       "    </tr>\n",
       "    <tr>\n",
       "      <th>2</th>\n",
       "      <td>25</td>\n",
       "      <td>9600</td>\n",
       "      <td>MORTGAGE</td>\n",
       "      <td>1.00000</td>\n",
       "      <td>MEDICAL</td>\n",
       "      <td>C</td>\n",
       "      <td>5500</td>\n",
       "      <td>12.87000</td>\n",
       "      <td>1</td>\n",
       "      <td>0.57000</td>\n",
       "      <td>N</td>\n",
       "      <td>3</td>\n",
       "    </tr>\n",
       "    <tr>\n",
       "      <th>3</th>\n",
       "      <td>23</td>\n",
       "      <td>65500</td>\n",
       "      <td>RENT</td>\n",
       "      <td>4.00000</td>\n",
       "      <td>MEDICAL</td>\n",
       "      <td>C</td>\n",
       "      <td>35000</td>\n",
       "      <td>15.23000</td>\n",
       "      <td>1</td>\n",
       "      <td>0.53000</td>\n",
       "      <td>N</td>\n",
       "      <td>2</td>\n",
       "    </tr>\n",
       "    <tr>\n",
       "      <th>4</th>\n",
       "      <td>24</td>\n",
       "      <td>54400</td>\n",
       "      <td>RENT</td>\n",
       "      <td>8.00000</td>\n",
       "      <td>MEDICAL</td>\n",
       "      <td>C</td>\n",
       "      <td>35000</td>\n",
       "      <td>14.27000</td>\n",
       "      <td>1</td>\n",
       "      <td>0.55000</td>\n",
       "      <td>Y</td>\n",
       "      <td>4</td>\n",
       "    </tr>\n",
       "  </tbody>\n",
       "</table>\n",
       "</div>"
      ],
      "text/plain": [
       "   person_age  person_income person_home_ownership  person_emp_length  \\\n",
       "0          22          59000                  RENT          123.00000   \n",
       "1          21           9600                   OWN            5.00000   \n",
       "2          25           9600              MORTGAGE            1.00000   \n",
       "3          23          65500                  RENT            4.00000   \n",
       "4          24          54400                  RENT            8.00000   \n",
       "\n",
       "  loan_intent loan_grade  loan_amnt  loan_int_rate  loan_status  \\\n",
       "0    PERSONAL          D      35000       16.02000            1   \n",
       "1   EDUCATION          B       1000       11.14000            0   \n",
       "2     MEDICAL          C       5500       12.87000            1   \n",
       "3     MEDICAL          C      35000       15.23000            1   \n",
       "4     MEDICAL          C      35000       14.27000            1   \n",
       "\n",
       "   loan_percent_income cb_person_default_on_file  cb_person_cred_hist_length  \n",
       "0              0.59000                         Y                           3  \n",
       "1              0.10000                         N                           2  \n",
       "2              0.57000                         N                           3  \n",
       "3              0.53000                         N                           2  \n",
       "4              0.55000                         Y                           4  "
      ]
     },
     "execution_count": 25,
     "metadata": {},
     "output_type": "execute_result"
    }
   ],
   "source": [
    "credit_data = pd.read_csv(\"/Users/sidhantbatra04/Downloads/Analytics work/Credit Risk/Credit Risk//cr_loan2.csv\")\n",
    "credit_data.head()"
   ]
  },
  {
   "cell_type": "code",
   "execution_count": 26,
   "metadata": {
    "tags": []
   },
   "outputs": [
    {
     "name": "stdout",
     "output_type": "stream",
     "text": [
      "<class 'pandas.core.frame.DataFrame'>\n",
      "RangeIndex: 32581 entries, 0 to 32580\n",
      "Data columns (total 12 columns):\n",
      " #   Column                      Non-Null Count  Dtype  \n",
      "---  ------                      --------------  -----  \n",
      " 0   person_age                  32581 non-null  int64  \n",
      " 1   person_income               32581 non-null  int64  \n",
      " 2   person_home_ownership       32581 non-null  object \n",
      " 3   person_emp_length           31686 non-null  float64\n",
      " 4   loan_intent                 32581 non-null  object \n",
      " 5   loan_grade                  32581 non-null  object \n",
      " 6   loan_amnt                   32581 non-null  int64  \n",
      " 7   loan_int_rate               29465 non-null  float64\n",
      " 8   loan_status                 32581 non-null  int64  \n",
      " 9   loan_percent_income         32581 non-null  float64\n",
      " 10  cb_person_default_on_file   32581 non-null  object \n",
      " 11  cb_person_cred_hist_length  32581 non-null  int64  \n",
      "dtypes: float64(3), int64(5), object(4)\n",
      "memory usage: 3.0+ MB\n"
     ]
    }
   ],
   "source": [
    "credit_data.info() "
   ]
  },
  {
   "cell_type": "markdown",
   "metadata": {},
   "source": [
    "<a id=\"section-two\"></a>\n",
    "# EDA"
   ]
  },
  {
   "cell_type": "code",
   "execution_count": 27,
   "metadata": {
    "tags": []
   },
   "outputs": [],
   "source": [
    "#Copy of the real dataset\n",
    "credit_new = credit_data.copy()"
   ]
  },
  {
   "cell_type": "code",
   "execution_count": 34,
   "metadata": {
    "tags": []
   },
   "outputs": [
    {
     "name": "stdout",
     "output_type": "stream",
     "text": [
      "#### Shape ####\n",
      "(32581, 12)\n",
      "#### Types ####\n",
      "person_age                      int64\n",
      "person_income                   int64\n",
      "person_home_ownership          object\n",
      "person_emp_length             float64\n",
      "loan_intent                    object\n",
      "loan_grade                     object\n",
      "loan_amnt                       int64\n",
      "loan_int_rate                 float64\n",
      "loan_status                     int64\n",
      "loan_percent_income           float64\n",
      "cb_person_default_on_file      object\n",
      "cb_person_cred_hist_length      int64\n",
      "dtype: object\n",
      "#### Head ####\n",
      "   person_age  person_income person_home_ownership  person_emp_length  \\\n",
      "0          22          59000                  RENT          123.00000   \n",
      "1          21           9600                   OWN            5.00000   \n",
      "2          25           9600              MORTGAGE            1.00000   \n",
      "3          23          65500                  RENT            4.00000   \n",
      "4          24          54400                  RENT            8.00000   \n",
      "\n",
      "  loan_intent loan_grade  loan_amnt  loan_int_rate  loan_status  \\\n",
      "0    PERSONAL          D      35000       16.02000            1   \n",
      "1   EDUCATION          B       1000       11.14000            0   \n",
      "2     MEDICAL          C       5500       12.87000            1   \n",
      "3     MEDICAL          C      35000       15.23000            1   \n",
      "4     MEDICAL          C      35000       14.27000            1   \n",
      "\n",
      "   loan_percent_income cb_person_default_on_file  cb_person_cred_hist_length  \n",
      "0              0.59000                         Y                           3  \n",
      "1              0.10000                         N                           2  \n",
      "2              0.57000                         N                           3  \n",
      "3              0.53000                         N                           2  \n",
      "4              0.55000                         Y                           4  \n",
      "#### Tail ####\n",
      "       person_age  person_income person_home_ownership  person_emp_length  \\\n",
      "32576          57          53000              MORTGAGE            1.00000   \n",
      "32577          54         120000              MORTGAGE            4.00000   \n",
      "32578          65          76000                  RENT            3.00000   \n",
      "32579          56         150000              MORTGAGE            5.00000   \n",
      "32580          66          42000                  RENT            2.00000   \n",
      "\n",
      "           loan_intent loan_grade  loan_amnt  loan_int_rate  loan_status  \\\n",
      "32576         PERSONAL          C       5800       13.16000            0   \n",
      "32577         PERSONAL          A      17625        7.49000            0   \n",
      "32578  HOMEIMPROVEMENT          B      35000       10.99000            1   \n",
      "32579         PERSONAL          B      15000       11.48000            0   \n",
      "32580          MEDICAL          B       6475        9.99000            0   \n",
      "\n",
      "       loan_percent_income cb_person_default_on_file  \\\n",
      "32576              0.11000                         N   \n",
      "32577              0.15000                         N   \n",
      "32578              0.46000                         N   \n",
      "32579              0.10000                         N   \n",
      "32580              0.15000                         N   \n",
      "\n",
      "       cb_person_cred_hist_length  \n",
      "32576                          30  \n",
      "32577                          19  \n",
      "32578                          28  \n",
      "32579                          26  \n",
      "32580                          30  \n",
      "#### NA #####\n",
      "person_age                       0\n",
      "person_income                    0\n",
      "person_home_ownership            0\n",
      "person_emp_length              895\n",
      "loan_intent                      0\n",
      "loan_grade                       0\n",
      "loan_amnt                        0\n",
      "loan_int_rate                 3116\n",
      "loan_status                      0\n",
      "loan_percent_income              0\n",
      "cb_person_default_on_file        0\n",
      "cb_person_cred_hist_length       0\n",
      "dtype: int64\n",
      "#### Quantiles ####\n",
      "                              0.00000     0.50000      0.95000      0.99000  \\\n",
      "person_age                   20.00000    26.00000     40.00000     50.00000   \n",
      "person_income              4000.00000 55000.00000 138000.00000 225200.00000   \n",
      "person_emp_length             0.00000     4.00000     13.00000     18.00000   \n",
      "loan_amnt                   500.00000  8000.00000  24000.00000  29800.00000   \n",
      "loan_int_rate                 5.42000    10.99000     16.32000     18.62000   \n",
      "loan_status                   0.00000     0.00000      1.00000      1.00000   \n",
      "loan_percent_income           0.00000     0.15000      0.38000      0.50000   \n",
      "cb_person_cred_hist_length    2.00000     4.00000     14.00000     17.00000   \n",
      "\n",
      "                                 1.00000  \n",
      "person_age                     144.00000  \n",
      "person_income              6000000.00000  \n",
      "person_emp_length              123.00000  \n",
      "loan_amnt                    35000.00000  \n",
      "loan_int_rate                   23.22000  \n",
      "loan_status                      1.00000  \n",
      "loan_percent_income              0.83000  \n",
      "cb_person_cred_hist_length      30.00000  \n"
     ]
    }
   ],
   "source": [
    "#Descriptive Statistics\n",
    "\n",
    "def descriptive_stats(dataframe, head = 5):\n",
    "    print(\"#### Shape ####\")\n",
    "    print(dataframe.shape)\n",
    "    print(\"#### Types ####\")\n",
    "    print(dataframe.dtypes)\n",
    "    print(\"#### Head ####\")\n",
    "    print(dataframe.head(head))\n",
    "    print(\"#### Tail ####\")\n",
    "    print(dataframe.tail(head))\n",
    "    print(\"#### NA #####\")\n",
    "    print(dataframe.isnull().sum())\n",
    "    print(\"#### Quantiles ####\")\n",
    "    print(dataframe.select_dtypes(include='number').quantile([0, 0.5, 0.95, 0.99, 1]).T)\n",
    "descriptive_stats(credit_new)"
   ]
  },
  {
   "cell_type": "code",
   "execution_count": 35,
   "metadata": {
    "tags": []
   },
   "outputs": [
    {
     "data": {
      "image/png": "[encoded data removed]",
      "text/plain": [
       "<Figure size 640x480 with 1 Axes>"
      ]
     },
     "metadata": {},
     "output_type": "display_data"
    }
   ],
   "source": [
    "#Frequency Plot of the Loan Status\n",
    "sns.countplot(x = \"loan_status\", data = credit_new)\n",
    "plt.show()"
   ]
  },
  {
   "cell_type": "code",
   "execution_count": 38,
   "metadata": {
    "tags": []
   },
   "outputs": [
    {
     "data": {
      "text/html": [
       "<div>\n",
       "<style scoped>\n",
       "    .dataframe tbody tr th:only-of-type {\n",
       "        vertical-align: middle;\n",
       "    }\n",
       "\n",
       "    .dataframe tbody tr th {\n",
       "        vertical-align: top;\n",
       "    }\n",
       "\n",
       "    .dataframe thead th {\n",
       "        text-align: right;\n",
       "    }\n",
       "</style>\n",
       "<table border=\"1\" class=\"dataframe\">\n",
       "  <thead>\n",
       "    <tr style=\"text-align: right;\">\n",
       "      <th>loan_status</th>\n",
       "      <th>0</th>\n",
       "      <th>1</th>\n",
       "    </tr>\n",
       "    <tr>\n",
       "      <th>person_home_ownership</th>\n",
       "      <th></th>\n",
       "      <th></th>\n",
       "    </tr>\n",
       "  </thead>\n",
       "  <tbody>\n",
       "    <tr>\n",
       "      <th>MORTGAGE</th>\n",
       "      <td>10.06000</td>\n",
       "      <td>13.43000</td>\n",
       "    </tr>\n",
       "    <tr>\n",
       "      <th>OTHER</th>\n",
       "      <td>11.41000</td>\n",
       "      <td>13.56000</td>\n",
       "    </tr>\n",
       "    <tr>\n",
       "      <th>OWN</th>\n",
       "      <td>10.75000</td>\n",
       "      <td>12.24000</td>\n",
       "    </tr>\n",
       "    <tr>\n",
       "      <th>RENT</th>\n",
       "      <td>10.75000</td>\n",
       "      <td>12.97000</td>\n",
       "    </tr>\n",
       "  </tbody>\n",
       "</table>\n",
       "</div>"
      ],
      "text/plain": [
       "loan_status                  0        1\n",
       "person_home_ownership                  \n",
       "MORTGAGE              10.06000 13.43000\n",
       "OTHER                 11.41000 13.56000\n",
       "OWN                   10.75000 12.24000\n",
       "RENT                  10.75000 12.97000"
      ]
     },
     "execution_count": 38,
     "metadata": {},
     "output_type": "execute_result"
    }
   ],
   "source": [
    "#cross-table exloration (Pivot Table)\n",
    "pd.crosstab(credit_new[\"person_home_ownership\"], credit_new[\"loan_status\"], values = credit_new[\"loan_int_rate\"], aggfunc = \"mean\").round(2)"
   ]
  },
  {
   "cell_type": "code",
   "execution_count": 41,
   "metadata": {
    "tags": []
   },
   "outputs": [
    {
     "data": {
      "text/html": [
       "<div>\n",
       "<style scoped>\n",
       "    .dataframe tbody tr th:only-of-type {\n",
       "        vertical-align: middle;\n",
       "    }\n",
       "\n",
       "    .dataframe tbody tr th {\n",
       "        vertical-align: top;\n",
       "    }\n",
       "\n",
       "    .dataframe thead th {\n",
       "        text-align: right;\n",
       "    }\n",
       "</style>\n",
       "<table border=\"1\" class=\"dataframe\">\n",
       "  <thead>\n",
       "    <tr style=\"text-align: right;\">\n",
       "      <th>loan_status</th>\n",
       "      <th>0</th>\n",
       "      <th>1</th>\n",
       "      <th>All</th>\n",
       "    </tr>\n",
       "    <tr>\n",
       "      <th>loan_intent</th>\n",
       "      <th></th>\n",
       "      <th></th>\n",
       "      <th></th>\n",
       "    </tr>\n",
       "  </thead>\n",
       "  <tbody>\n",
       "    <tr>\n",
       "      <th>DEBTCONSOLIDATION</th>\n",
       "      <td>3722</td>\n",
       "      <td>1490</td>\n",
       "      <td>5212</td>\n",
       "    </tr>\n",
       "    <tr>\n",
       "      <th>EDUCATION</th>\n",
       "      <td>5342</td>\n",
       "      <td>1111</td>\n",
       "      <td>6453</td>\n",
       "    </tr>\n",
       "    <tr>\n",
       "      <th>HOMEIMPROVEMENT</th>\n",
       "      <td>2664</td>\n",
       "      <td>941</td>\n",
       "      <td>3605</td>\n",
       "    </tr>\n",
       "    <tr>\n",
       "      <th>MEDICAL</th>\n",
       "      <td>4450</td>\n",
       "      <td>1621</td>\n",
       "      <td>6071</td>\n",
       "    </tr>\n",
       "    <tr>\n",
       "      <th>PERSONAL</th>\n",
       "      <td>4423</td>\n",
       "      <td>1098</td>\n",
       "      <td>5521</td>\n",
       "    </tr>\n",
       "    <tr>\n",
       "      <th>VENTURE</th>\n",
       "      <td>4872</td>\n",
       "      <td>847</td>\n",
       "      <td>5719</td>\n",
       "    </tr>\n",
       "    <tr>\n",
       "      <th>All</th>\n",
       "      <td>25473</td>\n",
       "      <td>7108</td>\n",
       "      <td>32581</td>\n",
       "    </tr>\n",
       "  </tbody>\n",
       "</table>\n",
       "</div>"
      ],
      "text/plain": [
       "loan_status            0     1    All\n",
       "loan_intent                          \n",
       "DEBTCONSOLIDATION   3722  1490   5212\n",
       "EDUCATION           5342  1111   6453\n",
       "HOMEIMPROVEMENT     2664   941   3605\n",
       "MEDICAL             4450  1621   6071\n",
       "PERSONAL            4423  1098   5521\n",
       "VENTURE             4872   847   5719\n",
       "All                25473  7108  32581"
      ]
     },
     "execution_count": 41,
     "metadata": {},
     "output_type": "execute_result"
    }
   ],
   "source": [
    "#cross table of the loan intent and loan status\n",
    "pd.crosstab(credit_new[\"loan_intent\"], credit_new[\"loan_status\"],  margins = True)"
   ]
  },
  {
   "cell_type": "code",
   "execution_count": 42,
   "metadata": {
    "tags": []
   },
   "outputs": [
    {
     "data": {
      "text/html": [
       "<div>\n",
       "<style scoped>\n",
       "    .dataframe tbody tr th:only-of-type {\n",
       "        vertical-align: middle;\n",
       "    }\n",
       "\n",
       "    .dataframe tbody tr th {\n",
       "        vertical-align: top;\n",
       "    }\n",
       "\n",
       "    .dataframe thead tr th {\n",
       "        text-align: left;\n",
       "    }\n",
       "\n",
       "    .dataframe thead tr:last-of-type th {\n",
       "        text-align: right;\n",
       "    }\n",
       "</style>\n",
       "<table border=\"1\" class=\"dataframe\">\n",
       "  <thead>\n",
       "    <tr>\n",
       "      <th>loan_status</th>\n",
       "      <th colspan=\"7\" halign=\"left\">0</th>\n",
       "      <th colspan=\"7\" halign=\"left\">1</th>\n",
       "    </tr>\n",
       "    <tr>\n",
       "      <th>loan_grade</th>\n",
       "      <th>A</th>\n",
       "      <th>B</th>\n",
       "      <th>C</th>\n",
       "      <th>D</th>\n",
       "      <th>E</th>\n",
       "      <th>F</th>\n",
       "      <th>G</th>\n",
       "      <th>A</th>\n",
       "      <th>B</th>\n",
       "      <th>C</th>\n",
       "      <th>D</th>\n",
       "      <th>E</th>\n",
       "      <th>F</th>\n",
       "      <th>G</th>\n",
       "    </tr>\n",
       "    <tr>\n",
       "      <th>person_home_ownership</th>\n",
       "      <th></th>\n",
       "      <th></th>\n",
       "      <th></th>\n",
       "      <th></th>\n",
       "      <th></th>\n",
       "      <th></th>\n",
       "      <th></th>\n",
       "      <th></th>\n",
       "      <th></th>\n",
       "      <th></th>\n",
       "      <th></th>\n",
       "      <th></th>\n",
       "      <th></th>\n",
       "      <th></th>\n",
       "    </tr>\n",
       "  </thead>\n",
       "  <tbody>\n",
       "    <tr>\n",
       "      <th>MORTGAGE</th>\n",
       "      <td>5219</td>\n",
       "      <td>3729</td>\n",
       "      <td>1934</td>\n",
       "      <td>658</td>\n",
       "      <td>178</td>\n",
       "      <td>36</td>\n",
       "      <td>0</td>\n",
       "      <td>239</td>\n",
       "      <td>324</td>\n",
       "      <td>321</td>\n",
       "      <td>553</td>\n",
       "      <td>161</td>\n",
       "      <td>61</td>\n",
       "      <td>31</td>\n",
       "    </tr>\n",
       "    <tr>\n",
       "      <th>OTHER</th>\n",
       "      <td>23</td>\n",
       "      <td>29</td>\n",
       "      <td>11</td>\n",
       "      <td>9</td>\n",
       "      <td>2</td>\n",
       "      <td>0</td>\n",
       "      <td>0</td>\n",
       "      <td>3</td>\n",
       "      <td>5</td>\n",
       "      <td>6</td>\n",
       "      <td>11</td>\n",
       "      <td>6</td>\n",
       "      <td>2</td>\n",
       "      <td>0</td>\n",
       "    </tr>\n",
       "    <tr>\n",
       "      <th>OWN</th>\n",
       "      <td>860</td>\n",
       "      <td>770</td>\n",
       "      <td>464</td>\n",
       "      <td>264</td>\n",
       "      <td>26</td>\n",
       "      <td>7</td>\n",
       "      <td>0</td>\n",
       "      <td>66</td>\n",
       "      <td>34</td>\n",
       "      <td>31</td>\n",
       "      <td>18</td>\n",
       "      <td>31</td>\n",
       "      <td>8</td>\n",
       "      <td>5</td>\n",
       "    </tr>\n",
       "    <tr>\n",
       "      <th>RENT</th>\n",
       "      <td>3602</td>\n",
       "      <td>4222</td>\n",
       "      <td>2710</td>\n",
       "      <td>554</td>\n",
       "      <td>137</td>\n",
       "      <td>28</td>\n",
       "      <td>1</td>\n",
       "      <td>765</td>\n",
       "      <td>1338</td>\n",
       "      <td>981</td>\n",
       "      <td>1559</td>\n",
       "      <td>423</td>\n",
       "      <td>99</td>\n",
       "      <td>27</td>\n",
       "    </tr>\n",
       "  </tbody>\n",
       "</table>\n",
       "</div>"
      ],
      "text/plain": [
       "loan_status               0                                 1             \\\n",
       "loan_grade                A     B     C    D    E   F  G    A     B    C   \n",
       "person_home_ownership                                                      \n",
       "MORTGAGE               5219  3729  1934  658  178  36  0  239   324  321   \n",
       "OTHER                    23    29    11    9    2   0  0    3     5    6   \n",
       "OWN                     860   770   464  264   26   7  0   66    34   31   \n",
       "RENT                   3602  4222  2710  554  137  28  1  765  1338  981   \n",
       "\n",
       "loan_status                               \n",
       "loan_grade                D    E   F   G  \n",
       "person_home_ownership                     \n",
       "MORTGAGE                553  161  61  31  \n",
       "OTHER                    11    6   2   0  \n",
       "OWN                      18   31   8   5  \n",
       "RENT                   1559  423  99  27  "
      ]
     },
     "execution_count": 42,
     "metadata": {},
     "output_type": "execute_result"
    }
   ],
   "source": [
    "#cross table of home ownership, loan status, and grade\n",
    "pd.crosstab(credit_new[\"person_home_ownership\"],[credit_new[\"loan_status\"],credit_new[\"loan_grade\"]])"
   ]
  },
  {
   "cell_type": "code",
   "execution_count": 43,
   "metadata": {
    "tags": []
   },
   "outputs": [
    {
     "data": {
      "text/html": [
       "<div>\n",
       "<style scoped>\n",
       "    .dataframe tbody tr th:only-of-type {\n",
       "        vertical-align: middle;\n",
       "    }\n",
       "\n",
       "    .dataframe tbody tr th {\n",
       "        vertical-align: top;\n",
       "    }\n",
       "\n",
       "    .dataframe thead th {\n",
       "        text-align: right;\n",
       "    }\n",
       "</style>\n",
       "<table border=\"1\" class=\"dataframe\">\n",
       "  <thead>\n",
       "    <tr style=\"text-align: right;\">\n",
       "      <th>loan_status</th>\n",
       "      <th>0</th>\n",
       "      <th>1</th>\n",
       "    </tr>\n",
       "    <tr>\n",
       "      <th>person_home_ownership</th>\n",
       "      <th></th>\n",
       "      <th></th>\n",
       "    </tr>\n",
       "  </thead>\n",
       "  <tbody>\n",
       "    <tr>\n",
       "      <th>MORTGAGE</th>\n",
       "      <td>0.14650</td>\n",
       "      <td>0.18488</td>\n",
       "    </tr>\n",
       "    <tr>\n",
       "      <th>OTHER</th>\n",
       "      <td>0.14378</td>\n",
       "      <td>0.30000</td>\n",
       "    </tr>\n",
       "    <tr>\n",
       "      <th>OWN</th>\n",
       "      <td>0.18001</td>\n",
       "      <td>0.29736</td>\n",
       "    </tr>\n",
       "    <tr>\n",
       "      <th>RENT</th>\n",
       "      <td>0.14461</td>\n",
       "      <td>0.26486</td>\n",
       "    </tr>\n",
       "  </tbody>\n",
       "</table>\n",
       "</div>"
      ],
      "text/plain": [
       "loan_status                 0       1\n",
       "person_home_ownership                \n",
       "MORTGAGE              0.14650 0.18488\n",
       "OTHER                 0.14378 0.30000\n",
       "OWN                   0.18001 0.29736\n",
       "RENT                  0.14461 0.26486"
      ]
     },
     "execution_count": 43,
     "metadata": {},
     "output_type": "execute_result"
    }
   ],
   "source": [
    "#cross table of home ownership, loan status, and average percent income\n",
    "pd.crosstab(credit_new[\"person_home_ownership\"], credit_new[\"loan_status\"], values=credit_new[\"loan_percent_income\"], aggfunc=\"mean\")"
   ]
  },
  {
   "cell_type": "code",
   "execution_count": 54,
   "metadata": {
    "tags": []
   },
   "outputs": [
    {
     "data": {
      "image/png": "[encoded data removed]",
      "text/plain": [
       "<Figure size 640x480 with 1 Axes>"
      ]
     },
     "metadata": {},
     "output_type": "display_data"
    }
   ],
   "source": [
    "#Distribution of Loan Amounts\n",
    "\n",
    "n, bins, patches = plt.hist(x = credit_new[\"loan_amnt\"], bins = \"auto\", color = \"firebrick\", alpha = 0.7, rwidth = 0.95)\n",
    "plt.xlabel(\"Loan Amount\")\n",
    "plt.show()"
   ]
  },
  {
   "cell_type": "code",
   "execution_count": 59,
   "metadata": {
    "tags": []
   },
   "outputs": [
    {
     "data": {
      "image/png": "[encoded data removed]",
      "text/plain": [
       "<Figure size 640x480 with 1 Axes>"
      ]
     },
     "metadata": {},
     "output_type": "display_data"
    }
   ],
   "source": [
    "#scatter plot of Income against Age\n",
    "plt.scatter(credit_new[\"person_income\"], credit_new[\"person_age\"], c = \"royalblue\", alpha = 0.5)\n",
    "plt.xlabel(\"Income\")\n",
    "plt.ylabel(\"Age\")\n",
    "plt.show()"
   ]
  },
  {
   "cell_type": "code",
   "execution_count": 62,
   "metadata": {
    "tags": []
   },
   "outputs": [
    {
     "data": {
      "image/png": "[encoded data removed]",
      "text/plain": [
       "<Figure size 640x480 with 1 Axes>"
      ]
     },
     "metadata": {},
     "output_type": "display_data"
    }
   ],
   "source": [
    "#box plot of the percentage income by loan status\n",
    "credit_new.boxplot(column = ['loan_percent_income'], by = 'loan_status')\n",
    "plt.title('Average Percent Income by Loan Status')\n",
    "plt.suptitle('')\n",
    "plt.show()"
   ]
  },
  {
   "cell_type": "markdown",
   "metadata": {},
   "source": [
    "<a id=\"section-three\"></a>\n",
    "# Preprocessing\n",
    "\n",
    "**Gathering the variables according to their data type.**"
   ]
  },
  {
   "cell_type": "code",
   "execution_count": 69,
   "metadata": {
    "tags": []
   },
   "outputs": [
    {
     "name": "stdout",
     "output_type": "stream",
     "text": [
      "Observations: 32581\n",
      "Variables: 12\n",
      "Categorical-columns: 5\n",
      "Numerical-columns: 11\n",
      "Categorical-but-Cardinal: 0\n",
      "Numerical_but_Categorical: 1\n"
     ]
    }
   ],
   "source": [
    "def grab_col_names(dataframe, cat_th=10, car_th=20):\n",
    "    cat_cols = [col for col in dataframe.columns if dataframe[col].dtypes == \"O\"]\n",
    "    num_but_cat = [col for col in dataframe.columns if dataframe[col].nunique() < cat_th and dataframe[col].dtypes != \"O\"]\n",
    "    cat_but_car = [col for col in dataframe.columns if dataframe[col].nunique() > car_th and dataframe[col].dtypes == \"O\"]\n",
    "    \n",
    "    cat_cols = cat_cols + num_but_cat\n",
    "    cat_cols = [col for col in cat_cols if col not in cat_but_car]\n",
    "    \n",
    "    #num_cols\n",
    "    num_cols = [col for col in dataframe.columns if dataframe[col].dtypes != \"0\"]\n",
    "    num_cols = [col for col in num_cols if col not in num_but_cat]\n",
    "    \n",
    "    print(f\"Observations: {dataframe.shape[0]}\")\n",
    "    print(f\"Variables: {dataframe.shape[1]}\")\n",
    "    print(f'Categorical-columns: {len(cat_cols)}')\n",
    "    print(f'Numerical-columns: {len(num_cols)}')\n",
    "    print(f'Categorical-but-Cardinal: {len(cat_but_car)}')\n",
    "    print(f'Numerical_but_Categorical: {len(num_but_cat)}')\n",
    "    return cat_cols, num_cols, cat_but_car, num_but_cat\n",
    "\n",
    "cat_cols, num_cols, cat_but_car, num_but_cat = grab_col_names(credit_new)\n"
   ]
  },
  {
   "cell_type": "code",
   "execution_count": 94,
   "metadata": {
    "tags": []
   },
   "outputs": [
    {
     "name": "stdout",
     "output_type": "stream",
     "text": [
      "Numerical variables: 11\n"
     ]
    },
    {
     "data": {
      "text/plain": [
       "['person_age',\n",
       " 'person_income',\n",
       " 'person_home_ownership',\n",
       " 'person_emp_length',\n",
       " 'loan_intent',\n",
       " 'loan_grade',\n",
       " 'loan_amnt',\n",
       " 'loan_int_rate',\n",
       " 'loan_percent_income',\n",
       " 'cb_person_default_on_file',\n",
       " 'cb_person_cred_hist_length']"
      ]
     },
     "execution_count": 94,
     "metadata": {},
     "output_type": "execute_result"
    }
   ],
   "source": [
    "print(f'Numerical variables: {len(num_cols)}')\n",
    "num_cols"
   ]
  },
  {
   "cell_type": "code",
   "execution_count": 92,
   "metadata": {
    "tags": []
   },
   "outputs": [
    {
     "name": "stdout",
     "output_type": "stream",
     "text": [
      "Categorical variables: 5\n"
     ]
    },
    {
     "data": {
      "text/plain": [
       "['person_home_ownership',\n",
       " 'loan_intent',\n",
       " 'loan_grade',\n",
       " 'cb_person_default_on_file',\n",
       " 'loan_status']"
      ]
     },
     "execution_count": 92,
     "metadata": {},
     "output_type": "execute_result"
    }
   ],
   "source": [
    "print(f'Categorical variables: {len(cat_cols)}')\n",
    "cat_cols"
   ]
  },
  {
   "cell_type": "code",
   "execution_count": 91,
   "metadata": {
    "tags": []
   },
   "outputs": [
    {
     "name": "stdout",
     "output_type": "stream",
     "text": [
      "Numerical but Categorical variables: 1\n"
     ]
    },
    {
     "data": {
      "text/plain": [
       "['loan_status']"
      ]
     },
     "execution_count": 91,
     "metadata": {},
     "output_type": "execute_result"
    }
   ],
   "source": [
    "print(f'Numerical but Categorical variables: {len(num_but_cat)}')\n",
    "num_but_cat\n",
    "#Its the dependent variable so we're gonna ignore that."
   ]
  },
  {
   "cell_type": "markdown",
   "metadata": {},
   "source": [
    "<a id=\"section-four\"></a>\n",
    "# Dealing with Outliers"
   ]
  },
  {
   "cell_type": "code",
   "execution_count": 111,
   "metadata": {
    "tags": []
   },
   "outputs": [
    {
     "name": "stdout",
     "output_type": "stream",
     "text": [
      "person_age: Outliers Detected\n",
      "person_income: Outliers Detected\n",
      "person_emp_length: Outliers Detected\n",
      "loan_amnt: No Outliers\n",
      "loan_int_rate: No Outliers\n",
      "loan_status: No Outliers\n",
      "loan_percent_income: No Outliers\n",
      "cb_person_cred_hist_length: No Outliers\n"
     ]
    }
   ],
   "source": [
    "#Let's define our threshold function.\n",
    "def outlier_thresholds(dataframe, col_name, q1=0.01, q3=0.99):\n",
    "    quartile1 = dataframe[col_name].quantile(q1)\n",
    "    quartile3 = dataframe[col_name].quantile(q3)\n",
    "    interquantile_range = quartile3 - quartile1\n",
    "    up_limit = quartile3 + 1.5 * interquantile_range\n",
    "    low_limit = quartile1 - 1.5 * interquantile_range\n",
    "    return low_limit, up_limit\n",
    "\n",
    "def check_outlier(dataframe, col_name):\n",
    "    low_limit, up_limit = outlier_thresholds(dataframe, col_name)\n",
    "    if dataframe[(dataframe[col_name] > up_limit) | (dataframe[col_name] < low_limit)].any(axis=None):\n",
    "        return True\n",
    "    else:\n",
    "        return False\n",
    "    \n",
    "    num_cols = credit_new.select_dtypes(include=['number']).columns\n",
    "    \n",
    "for col in num_cols:\n",
    "    result = check_outlier(credit_new, col)\n",
    "    print(f\"{col}: {'Outliers Detected' if result else 'No Outliers'}\")\n"
   ]
  },
  {
   "cell_type": "code",
   "execution_count": 112,
   "metadata": {
    "tags": []
   },
   "outputs": [
    {
     "data": {
      "text/plain": [
       "(person_age                       -22.50000\n",
       " person_income                -301800.00000\n",
       " person_emp_length                -27.00000\n",
       " loan_amnt                     -42200.00000\n",
       " loan_int_rate                    -14.38000\n",
       " loan_status                       -1.50000\n",
       " loan_percent_income               -0.70000\n",
       " cb_person_cred_hist_length       -20.50000\n",
       " dtype: float64,\n",
       " person_age                       93.50000\n",
       " person_income                541400.00000\n",
       " person_emp_length                45.00000\n",
       " loan_amnt                     73000.00000\n",
       " loan_int_rate                    38.42000\n",
       " loan_status                       2.50000\n",
       " loan_percent_income               1.22000\n",
       " cb_person_cred_hist_length       39.50000\n",
       " dtype: float64)"
      ]
     },
     "execution_count": 112,
     "metadata": {},
     "output_type": "execute_result"
    }
   ],
   "source": [
    "outlier_thresholds(credit_new, num_cols)"
   ]
  },
  {
   "cell_type": "code",
   "execution_count": 113,
   "metadata": {
    "tags": []
   },
   "outputs": [
    {
     "data": {
      "text/plain": [
       "Index([81, 183, 575, 747, 32297, 32416], dtype='int64')"
      ]
     },
     "execution_count": 113,
     "metadata": {},
     "output_type": "execute_result"
    }
   ],
   "source": [
    "credit_new[credit_new[\"person_age\"] > 93].index"
   ]
  },
  {
   "cell_type": "code",
   "execution_count": 114,
   "metadata": {
    "tags": []
   },
   "outputs": [
    {
     "name": "stdout",
     "output_type": "stream",
     "text": [
      "person_age False\n",
      "person_income False\n",
      "person_emp_length False\n",
      "loan_amnt False\n",
      "loan_int_rate False\n",
      "loan_status False\n",
      "loan_percent_income False\n",
      "cb_person_cred_hist_length False\n"
     ]
    }
   ],
   "source": [
    "#Replacing Outliers\n",
    "\n",
    "def replace_with_thresholds(dataframe, variable):\n",
    "    low_limit, up_limit = outlier_thresholds(dataframe, variable)\n",
    "    dataframe.loc[(dataframe[variable] < low_limit), variable] = low_limit\n",
    "    dataframe.loc[(dataframe[variable] > up_limit), variable] = up_limit\n",
    "    \n",
    "for col in num_cols:\n",
    "    replace_with_thresholds(credit_new, col)\n",
    "    \n",
    "for col in num_cols:\n",
    "    print(col, check_outlier(credit_new, col))\n",
    "    "
   ]
  },
  {
   "cell_type": "markdown",
   "metadata": {},
   "source": [
    "<a id=\"section-five\"></a>\n",
    "# Missing Values"
   ]
  },
  {
   "cell_type": "code",
   "execution_count": 116,
   "metadata": {
    "tags": []
   },
   "outputs": [
    {
     "data": {
      "text/plain": [
       "person_age                       0\n",
       "person_income                    0\n",
       "person_home_ownership            0\n",
       "person_emp_length              895\n",
       "loan_intent                      0\n",
       "loan_grade                       0\n",
       "loan_amnt                        0\n",
       "loan_int_rate                 3116\n",
       "loan_status                      0\n",
       "loan_percent_income              0\n",
       "cb_person_default_on_file        0\n",
       "cb_person_cred_hist_length       0\n",
       "dtype: int64"
      ]
     },
     "execution_count": 116,
     "metadata": {},
     "output_type": "execute_result"
    }
   ],
   "source": [
    "credit_new.isnull().sum()"
   ]
  },
  {
   "cell_type": "code",
   "execution_count": 119,
   "metadata": {
    "tags": []
   },
   "outputs": [
    {
     "data": {
      "text/plain": [
       "12.310856020379976"
      ]
     },
     "execution_count": 119,
     "metadata": {},
     "output_type": "execute_result"
    }
   ],
   "source": [
    "(3116+895)/len(credit_new)*100\n",
    "#12% of the dataset seems to have null values\n",
    "#fill them with median"
   ]
  },
  {
   "cell_type": "code",
   "execution_count": 121,
   "metadata": {
    "tags": []
   },
   "outputs": [
    {
     "data": {
      "text/plain": [
       "0"
      ]
     },
     "execution_count": 121,
     "metadata": {},
     "output_type": "execute_result"
    }
   ],
   "source": [
    "credit_new[\"person_emp_length\"].fillna((credit_new[\"person_emp_length\"].median()), inplace = True)\n",
    "credit_new[\"loan_int_rate\"].fillna((credit_new[\"loan_int_rate\"].mean()), inplace = True)\n",
    "#validation\n",
    "credit_new[\"loan_int_rate\"].isnull().sum()"
   ]
  },
  {
   "cell_type": "markdown",
   "metadata": {},
   "source": [
    "<a id=\"section-six\"></a>\n",
    "# Rare Analysing & One-Hot Encoding\n",
    "**As we are used to, we encode our data before inserting it into the machine learning model.**\n",
    "**With one-hot, we convert each categorical value into a new categorical column and assign a binary value of 1 or 0 to those columns.**\n",
    "**Each integer value is represented as a binary vector.**\n"
   ]
  },
  {
   "cell_type": "code",
   "execution_count": 124,
   "metadata": {
    "tags": []
   },
   "outputs": [
    {
     "name": "stdout",
     "output_type": "stream",
     "text": [
      "person_home_ownership : 4\n",
      "                       COUNT   RATIO  TARGET_MEAN\n",
      "person_home_ownership                            \n",
      "MORTGAGE               13444 0.41263      0.12571\n",
      "OTHER                    107 0.00328      0.30841\n",
      "OWN                     2584 0.07931      0.07469\n",
      "RENT                   16446 0.50477      0.31570\n",
      "\n",
      "\n",
      "loan_intent : 6\n",
      "                   COUNT   RATIO  TARGET_MEAN\n",
      "loan_intent                                  \n",
      "DEBTCONSOLIDATION   5212 0.15997      0.28588\n",
      "EDUCATION           6453 0.19806      0.17217\n",
      "HOMEIMPROVEMENT     3605 0.11065      0.26103\n",
      "MEDICAL             6071 0.18634      0.26701\n",
      "PERSONAL            5521 0.16945      0.19888\n",
      "VENTURE             5719 0.17553      0.14810\n",
      "\n",
      "\n",
      "loan_grade : 7\n",
      "            COUNT   RATIO  TARGET_MEAN\n",
      "loan_grade                            \n",
      "A           10777 0.33078      0.09956\n",
      "B           10451 0.32077      0.16276\n",
      "C            6458 0.19821      0.20734\n",
      "D            3626 0.11129      0.59046\n",
      "E             964 0.02959      0.64419\n",
      "F             241 0.00740      0.70539\n",
      "G              64 0.00196      0.98438\n",
      "\n",
      "\n",
      "cb_person_default_on_file : 2\n",
      "                           COUNT   RATIO  TARGET_MEAN\n",
      "cb_person_default_on_file                            \n",
      "N                          26836 0.82367      0.18393\n",
      "Y                           5745 0.17633      0.37807\n",
      "\n",
      "\n",
      "loan_status : 2\n",
      "             COUNT   RATIO  TARGET_MEAN\n",
      "loan_status                            \n",
      "0.00000      25473 0.78184      0.00000\n",
      "1.00000       7108 0.21816      1.00000\n",
      "\n",
      "\n"
     ]
    },
    {
     "data": {
      "text/plain": [
       "Index(['person_age', 'person_income', 'person_emp_length', 'loan_amnt',\n",
       "       'loan_int_rate', 'loan_status', 'loan_percent_income',\n",
       "       'cb_person_cred_hist_length', 'person_home_ownership_OTHER',\n",
       "       'person_home_ownership_OWN', 'person_home_ownership_RENT',\n",
       "       'loan_intent_EDUCATION', 'loan_intent_HOMEIMPROVEMENT',\n",
       "       'loan_intent_MEDICAL', 'loan_intent_PERSONAL', 'loan_intent_VENTURE',\n",
       "       'loan_grade_B', 'loan_grade_C', 'loan_grade_D', 'loan_grade_E',\n",
       "       'loan_grade_F', 'loan_grade_G', 'cb_person_default_on_file_Y'],\n",
       "      dtype='object')"
      ]
     },
     "execution_count": 124,
     "metadata": {},
     "output_type": "execute_result"
    }
   ],
   "source": [
    "def rare_analyser(dataframe, target, cat_cols):\n",
    "    for col in cat_cols:\n",
    "        print(col, \":\", len(dataframe[col].value_counts()))\n",
    "        print(pd.DataFrame({\"COUNT\": dataframe[col].value_counts(),\n",
    "                            \"RATIO\": dataframe[col].value_counts() / len(dataframe),\n",
    "                            \"TARGET_MEAN\": dataframe.groupby(col)[target].mean()}), end=\"\\n\\n\\n\")\n",
    "rare_analyser(credit_new, \"loan_status\", cat_cols)\n",
    "\n",
    "#One hot encoding\n",
    "def one_hot_encoder(dataframe, categorical_cols, drop_first=False):\n",
    "    dataframe = pd.get_dummies(dataframe, columns=categorical_cols, drop_first=drop_first)\n",
    "    return dataframe\n",
    "ohe_cols = [col for col in credit_new.columns if 10>= credit_new[col].nunique() >= 2 and col != \"loan_status\"]\n",
    "credit_new2 = one_hot_encoder(credit_new, ohe_cols,drop_first=True)\n",
    "\n",
    "credit_new2.columns"
   ]
  },
  {
   "cell_type": "markdown",
   "metadata": {},
   "source": [
    "<a id=\"section-seven\"></a>\n",
    "# Creating the Model\n",
    "# Multivariate Logistic Regression"
   ]
  },
  {
   "cell_type": "code",
   "execution_count": 127,
   "metadata": {
    "tags": []
   },
   "outputs": [],
   "source": [
    "#Multivariate Logistic Regression\n",
    "\n",
    "y = credit_new2[\"loan_status\"]\n",
    "X = credit_new2.drop([\"loan_status\"], axis=1)\n",
    "\n",
    "#Model\n",
    "logit = LogisticRegression().fit(X,y)"
   ]
  },
  {
   "cell_type": "code",
   "execution_count": 128,
   "metadata": {
    "tags": []
   },
   "outputs": [
    {
     "data": {
      "text/plain": [
       "array([[-5.28856507e-08, -4.08285087e-05, -2.45131418e-08,\n",
       "         1.07307177e-04,  8.51980711e-08,  2.61050104e-09,\n",
       "        -9.09214385e-09,  8.06416681e-11, -4.02339910e-09,\n",
       "         8.32952884e-09, -3.03331127e-09,  1.79934404e-09,\n",
       "         1.37382404e-09, -1.18189189e-09, -3.70752493e-09,\n",
       "        -5.60385763e-09, -1.39441067e-09,  1.08366295e-08,\n",
       "         3.45017032e-09,  1.00622531e-09,  4.22005399e-10,\n",
       "         7.13909588e-09]])"
      ]
     },
     "execution_count": 128,
     "metadata": {},
     "output_type": "execute_result"
    }
   ],
   "source": [
    "logit.coef_"
   ]
  },
  {
   "cell_type": "code",
   "execution_count": 129,
   "metadata": {
    "tags": []
   },
   "outputs": [
    {
     "data": {
      "text/plain": [
       "array([1., 0., 1., ..., 1., 0., 0.])"
      ]
     },
     "execution_count": 129,
     "metadata": {},
     "output_type": "execute_result"
    }
   ],
   "source": [
    "#Predictions\n",
    "y_pred = logit.predict(X)\n",
    "y_pred"
   ]
  },
  {
   "cell_type": "code",
   "execution_count": 138,
   "metadata": {
    "tags": []
   },
   "outputs": [
    {
     "data": {
      "image/png": "[encoded data removed]",
      "text/plain": [
       "<Figure size 640x480 with 2 Axes>"
      ]
     },
     "metadata": {},
     "output_type": "display_data"
    }
   ],
   "source": [
    "#Confusion Matrix\n",
    "def plot_confusion_matrix(y, y_pred):\n",
    "    acc = round(accuracy_score(y, y_pred), 2)\n",
    "    cm = confusion_matrix(y,y_pred)\n",
    "    sns.heatmap(cm, annot=True, fmt=\".0f\")\n",
    "    plt.xlabel('y_pred')\n",
    "    plt.ylabel('y')\n",
    "    plt.title('Accuracy Score: {0}'.format(acc), size=10)\n",
    "    plt.show()\n",
    "\n",
    "plot_confusion_matrix(y, y_pred)"
   ]
  },
  {
   "cell_type": "code",
   "execution_count": 140,
   "metadata": {
    "tags": []
   },
   "outputs": [],
   "source": [
    "#Model Validation: Holdout, splitting the data\n",
    "X_train, X_test, y_train, y_test = train_test_split(X, y, test_size = .20, random_state = 1111)"
   ]
  },
  {
   "cell_type": "code",
   "execution_count": 141,
   "metadata": {
    "tags": []
   },
   "outputs": [
    {
     "name": "stdout",
     "output_type": "stream",
     "text": [
      "              precision    recall  f1-score   support\n",
      "\n",
      "         0.0       0.81      0.98      0.89      5131\n",
      "         1.0       0.71      0.17      0.28      1386\n",
      "\n",
      "    accuracy                           0.81      6517\n",
      "   macro avg       0.76      0.58      0.58      6517\n",
      "weighted avg       0.79      0.81      0.76      6517\n",
      "\n"
     ]
    }
   ],
   "source": [
    "#Building Model with Train Set\n",
    "logit_model = LogisticRegression().fit(X_train, y_train)\n",
    "\n",
    "#Predicting the test set\n",
    "y_pred = logit_model.predict(X_test)\n",
    "\n",
    "#For AUC Score()\n",
    "y_prob = logit_model.predict_proba(X_test)[:, 1]\n",
    "\n",
    "#Classification Report\n",
    "print(classification_report(y_test, y_pred))\n"
   ]
  },
  {
   "cell_type": "code",
   "execution_count": 148,
   "metadata": {
    "tags": []
   },
   "outputs": [
    {
     "data": {
      "image/png": "[encoded data removed]",
      "text/plain": [
       "<Figure size 640x480 with 1 Axes>"
      ]
     },
     "metadata": {},
     "output_type": "display_data"
    },
    {
     "data": {
      "text/plain": [
       "0.7607241499270343"
      ]
     },
     "execution_count": 148,
     "metadata": {},
     "output_type": "execute_result"
    }
   ],
   "source": [
    "#ROC Curve & ROC AUC Score\n",
    "\n",
    "# ROC Curve\n",
    "RocCurveDisplay.from_estimator(logit_model, X_test, y_test)\n",
    "plt.title('ROC Curve')\n",
    "plt.plot([0, 1], [0, 1], 'r--')\n",
    "plt.show()\n",
    "\n",
    "roc_auc_score(y_test, y_prob)"
   ]
  },
  {
   "cell_type": "code",
   "execution_count": 149,
   "metadata": {
    "tags": []
   },
   "outputs": [],
   "source": [
    "#Model Validation: 5-Fold Cross Validation\n",
    "\n",
    "y = credit_new2[\"loan_status\"]\n",
    "X = credit_new2.drop([\"loan_status\"], axis=1)\n",
    "\n",
    "#Model\n",
    "logit = LogisticRegression().fit(X,y)"
   ]
  },
  {
   "cell_type": "code",
   "execution_count": 152,
   "metadata": {
    "tags": []
   },
   "outputs": [],
   "source": [
    "cv_logit_acc = cross_val_score(logit, X,y,cv = 10, scoring = \"accuracy\")\n",
    "cv_logit_f1 = cross_val_score(logit, X,y,cv = 10, scoring = \"f1\")\n",
    "cv_logit_roc = cross_val_score(logit, X,y,cv = 10, scoring = \"roc_auc\")"
   ]
  },
  {
   "cell_type": "code",
   "execution_count": 153,
   "metadata": {
    "tags": []
   },
   "outputs": [
    {
     "data": {
      "text/plain": [
       "0.8025226171619755"
      ]
     },
     "execution_count": 153,
     "metadata": {},
     "output_type": "execute_result"
    }
   ],
   "source": [
    "cv_logit_acc.mean()\n",
    "#Accuracy = 0.8025226171619755"
   ]
  },
  {
   "cell_type": "code",
   "execution_count": 154,
   "metadata": {
    "tags": []
   },
   "outputs": [
    {
     "data": {
      "text/plain": [
       "0.249315735453883"
      ]
     },
     "execution_count": 154,
     "metadata": {},
     "output_type": "execute_result"
    }
   ],
   "source": [
    "cv_logit_f1.mean()\n",
    "#F-1 Score = 0.249315735453883"
   ]
  },
  {
   "cell_type": "code",
   "execution_count": 155,
   "metadata": {
    "tags": []
   },
   "outputs": [
    {
     "data": {
      "text/plain": [
       "0.7690047691764843"
      ]
     },
     "execution_count": 155,
     "metadata": {},
     "output_type": "execute_result"
    }
   ],
   "source": [
    "cv_logit_roc.mean()\n",
    "#ROC AUC Score = 0.7690047691764843"
   ]
  },
  {
   "cell_type": "markdown",
   "metadata": {},
   "source": [
    "<a id=\"section-eight\"></a>\n",
    "# Extreme Gradient Boosting with Model Tuning"
   ]
  },
  {
   "cell_type": "code",
   "execution_count": 156,
   "metadata": {
    "tags": []
   },
   "outputs": [],
   "source": [
    "X_train, X_test, y_train, y_test = train_test_split(X, y, test_size = .20, random_state = 1111)"
   ]
  },
  {
   "cell_type": "code",
   "execution_count": 159,
   "metadata": {
    "tags": []
   },
   "outputs": [
    {
     "name": "stderr",
     "output_type": "stream",
     "text": [
      "[I 2025-05-25 23:57:11,564] A new study created in memory with name: no-name-16fba772-fac7-454b-bae6-c83655467e29\n",
      "[I 2025-05-25 23:57:11,746] Trial 0 finished with value: 0.2126745435016112 and parameters: {'max_depth': 2, 'n_estimators': 260, 'learning_rate': 2.9224568081123716e-07}. Best is trial 0 with value: 0.2126745435016112.\n",
      "[I 2025-05-25 23:57:12,029] Trial 1 finished with value: 0.2126745435016112 and parameters: {'max_depth': 3, 'n_estimators': 559, 'learning_rate': 0.0001244076059542359}. Best is trial 0 with value: 0.2126745435016112.\n",
      "[I 2025-05-25 23:57:12,984] Trial 2 finished with value: 0.2126745435016112 and parameters: {'max_depth': 8, 'n_estimators': 839, 'learning_rate': 2.3441532912208707e-07}. Best is trial 0 with value: 0.2126745435016112.\n",
      "[I 2025-05-25 23:57:13,658] Trial 3 finished with value: 0.2126745435016112 and parameters: {'max_depth': 7, 'n_estimators': 635, 'learning_rate': 0.00021577527284406413}. Best is trial 0 with value: 0.2126745435016112.\n",
      "[I 2025-05-25 23:57:13,961] Trial 4 finished with value: 0.2126745435016112 and parameters: {'max_depth': 5, 'n_estimators': 424, 'learning_rate': 0.00022494680839703994}. Best is trial 0 with value: 0.2126745435016112.\n",
      "[I 2025-05-25 23:57:14,272] Trial 5 finished with value: 0.2126745435016112 and parameters: {'max_depth': 4, 'n_estimators': 529, 'learning_rate': 6.148957994907727e-06}. Best is trial 0 with value: 0.2126745435016112.\n",
      "[I 2025-05-25 23:57:14,841] Trial 6 finished with value: 0.06306582783489334 and parameters: {'max_depth': 5, 'n_estimators': 725, 'learning_rate': 0.06240374222355869}. Best is trial 6 with value: 0.06306582783489334.\n",
      "[I 2025-05-25 23:57:15,276] Trial 7 finished with value: 0.2126745435016112 and parameters: {'max_depth': 2, 'n_estimators': 924, 'learning_rate': 0.00022460659049720007}. Best is trial 6 with value: 0.06306582783489334.\n",
      "[I 2025-05-25 23:57:15,548] Trial 8 finished with value: 0.1431640325303054 and parameters: {'max_depth': 2, 'n_estimators': 656, 'learning_rate': 0.0012670518711531372}. Best is trial 6 with value: 0.06306582783489334.\n",
      "[I 2025-05-25 23:57:15,698] Trial 9 finished with value: 0.07810342181985575 and parameters: {'max_depth': 8, 'n_estimators': 106, 'learning_rate': 0.011814926731538182}. Best is trial 6 with value: 0.06306582783489334.\n",
      "[I 2025-05-25 23:57:16,497] Trial 10 finished with value: 0.06858984195181828 and parameters: {'max_depth': 6, 'n_estimators': 780, 'learning_rate': 0.6037222518377665}. Best is trial 6 with value: 0.06306582783489334.\n",
      "[I 2025-05-25 23:57:17,247] Trial 11 finished with value: 0.06460027620070585 and parameters: {'max_depth': 6, 'n_estimators': 807, 'learning_rate': 0.2908756026626447}. Best is trial 6 with value: 0.06306582783489334.\n",
      "[I 2025-05-25 23:57:18,015] Trial 12 finished with value: 0.07288629737609331 and parameters: {'max_depth': 5, 'n_estimators': 988, 'learning_rate': 0.9252256896515705}. Best is trial 6 with value: 0.06306582783489334.\n",
      "[I 2025-05-25 23:57:18,773] Trial 13 finished with value: 0.062452048488568335 and parameters: {'max_depth': 6, 'n_estimators': 763, 'learning_rate': 0.04051902613981149}. Best is trial 13 with value: 0.062452048488568335.\n",
      "[I 2025-05-25 23:57:19,399] Trial 14 finished with value: 0.06460027620070585 and parameters: {'max_depth': 9, 'n_estimators': 391, 'learning_rate': 0.020163828113496172}. Best is trial 13 with value: 0.062452048488568335.\n",
      "[I 2025-05-25 23:57:20,069] Trial 15 finished with value: 0.06858984195181828 and parameters: {'max_depth': 4, 'n_estimators': 698, 'learning_rate': 0.02632580307129931}. Best is trial 13 with value: 0.062452048488568335.\n",
      "[I 2025-05-25 23:57:20,903] Trial 16 finished with value: 0.2126745435016112 and parameters: {'max_depth': 6, 'n_estimators': 737, 'learning_rate': 1.2233091792759973e-08}. Best is trial 13 with value: 0.062452048488568335.\n",
      "[I 2025-05-25 23:57:21,938] Trial 17 finished with value: 0.09191345711216814 and parameters: {'max_depth': 4, 'n_estimators': 898, 'learning_rate': 0.0019835962793532586}. Best is trial 13 with value: 0.062452048488568335.\n",
      "[I 2025-05-25 23:57:22,696] Trial 18 finished with value: 0.06306582783489334 and parameters: {'max_depth': 7, 'n_estimators': 425, 'learning_rate': 0.08774364312770416}. Best is trial 13 with value: 0.062452048488568335.\n",
      "[I 2025-05-25 23:57:23,158] Trial 19 finished with value: 0.2126745435016112 and parameters: {'max_depth': 5, 'n_estimators': 596, 'learning_rate': 1.0270974390134532e-05}. Best is trial 13 with value: 0.062452048488568335.\n",
      "[I 2025-05-25 23:57:23,195] Trial 20 finished with value: 0.2126745435016112 and parameters: {'max_depth': 1, 'n_estimators': 25, 'learning_rate': 0.0031148184257049323}. Best is trial 13 with value: 0.062452048488568335.\n",
      "[I 2025-05-25 23:57:23,616] Trial 21 finished with value: 0.06229860365198714 and parameters: {'max_depth': 7, 'n_estimators': 435, 'learning_rate': 0.08246350670792885}. Best is trial 21 with value: 0.06229860365198714.\n",
      "[I 2025-05-25 23:57:24,001] Trial 22 finished with value: 0.06275893816173084 and parameters: {'max_depth': 7, 'n_estimators': 283, 'learning_rate': 0.0926191263263279}. Best is trial 21 with value: 0.06229860365198714.\n",
      "[I 2025-05-25 23:57:24,303] Trial 23 finished with value: 0.061991713978824636 and parameters: {'max_depth': 7, 'n_estimators': 279, 'learning_rate': 0.08256377663004782}. Best is trial 23 with value: 0.061991713978824636.\n",
      "[I 2025-05-25 23:57:24,711] Trial 24 finished with value: 0.07303974221267451 and parameters: {'max_depth': 9, 'n_estimators': 261, 'learning_rate': 0.005601827977478129}. Best is trial 23 with value: 0.061991713978824636.\n",
      "[I 2025-05-25 23:57:25,137] Trial 25 finished with value: 0.06413994169096215 and parameters: {'max_depth': 8, 'n_estimators': 348, 'learning_rate': 0.1770426006640393}. Best is trial 23 with value: 0.061991713978824636.\n",
      "[I 2025-05-25 23:57:25,638] Trial 26 finished with value: 0.2126745435016112 and parameters: {'max_depth': 7, 'n_estimators': 475, 'learning_rate': 0.0008406432729908469}. Best is trial 23 with value: 0.061991713978824636.\n",
      "[I 2025-05-25 23:57:25,796] Trial 27 finished with value: 0.2126745435016112 and parameters: {'max_depth': 6, 'n_estimators': 156, 'learning_rate': 2.288097445597431e-05}. Best is trial 23 with value: 0.061991713978824636.\n",
      "[I 2025-05-25 23:57:26,081] Trial 28 finished with value: 0.07319318704925581 and parameters: {'max_depth': 8, 'n_estimators': 190, 'learning_rate': 0.010575832741620612}. Best is trial 23 with value: 0.061991713978824636.\n",
      "[I 2025-05-25 23:57:26,466] Trial 29 finished with value: 0.06275893816173084 and parameters: {'max_depth': 7, 'n_estimators': 323, 'learning_rate': 0.04909004514426283}. Best is trial 23 with value: 0.061991713978824636.\n",
      "[I 2025-05-25 23:57:26,996] Trial 30 finished with value: 0.06229860365198714 and parameters: {'max_depth': 6, 'n_estimators': 464, 'learning_rate': 0.1960806354347595}. Best is trial 23 with value: 0.061991713978824636.\n",
      "[I 2025-05-25 23:57:27,466] Trial 31 finished with value: 0.06444683136412455 and parameters: {'max_depth': 6, 'n_estimators': 527, 'learning_rate': 0.29319497048396276}. Best is trial 23 with value: 0.061991713978824636.\n",
      "[I 2025-05-25 23:57:27,973] Trial 32 finished with value: 0.06951051097130578 and parameters: {'max_depth': 7, 'n_estimators': 441, 'learning_rate': 0.9458183714749198}. Best is trial 23 with value: 0.061991713978824636.\n",
      "[I 2025-05-25 23:57:28,156] Trial 33 finished with value: 0.06843639711523708 and parameters: {'max_depth': 6, 'n_estimators': 190, 'learning_rate': 0.031887934171024354}. Best is trial 23 with value: 0.061991713978824636.\n",
      "[I 2025-05-25 23:57:28,551] Trial 34 finished with value: 0.06229860365198714 and parameters: {'max_depth': 8, 'n_estimators': 338, 'learning_rate': 0.15434756814635198}. Best is trial 23 with value: 0.061991713978824636.\n",
      "[I 2025-05-25 23:57:29,036] Trial 35 finished with value: 0.06383305201779965 and parameters: {'max_depth': 9, 'n_estimators': 357, 'learning_rate': 0.2323557406572931}. Best is trial 23 with value: 0.061991713978824636.\n",
      "[I 2025-05-25 23:57:29,677] Trial 36 finished with value: 0.2126745435016112 and parameters: {'max_depth': 8, 'n_estimators': 477, 'learning_rate': 1.1797742497614367e-06}. Best is trial 23 with value: 0.061991713978824636.\n",
      "[I 2025-05-25 23:57:30,448] Trial 37 finished with value: 0.06997084548104959 and parameters: {'max_depth': 8, 'n_estimators': 588, 'learning_rate': 0.005800744468530251}. Best is trial 23 with value: 0.061991713978824636.\n",
      "[I 2025-05-25 23:57:30,931] Trial 38 finished with value: 0.2126745435016112 and parameters: {'max_depth': 9, 'n_estimators': 298, 'learning_rate': 0.0005852358344299671}. Best is trial 23 with value: 0.061991713978824636.\n",
      "[I 2025-05-25 23:57:31,278] Trial 39 finished with value: 0.06291238299831214 and parameters: {'max_depth': 7, 'n_estimators': 216, 'learning_rate': 0.14554427092960626}. Best is trial 23 with value: 0.061991713978824636.\n",
      "[I 2025-05-25 23:57:31,707] Trial 40 finished with value: 0.06521405554703086 and parameters: {'max_depth': 7, 'n_estimators': 391, 'learning_rate': 0.41816092121696197}. Best is trial 23 with value: 0.061991713978824636.\n",
      "[I 2025-05-25 23:57:32,125] Trial 41 finished with value: 0.06398649685438085 and parameters: {'max_depth': 5, 'n_estimators': 512, 'learning_rate': 0.044493440894472554}. Best is trial 23 with value: 0.061991713978824636.\n",
      "[I 2025-05-25 23:57:32,824] Trial 42 finished with value: 0.06536750038361205 and parameters: {'max_depth': 8, 'n_estimators': 567, 'learning_rate': 0.01400172218830561}. Best is trial 23 with value: 0.061991713978824636.\n",
      "[I 2025-05-25 23:57:33,150] Trial 43 finished with value: 0.06337271750805584 and parameters: {'max_depth': 6, 'n_estimators': 376, 'learning_rate': 0.09976662957714225}. Best is trial 23 with value: 0.061991713978824636.\n",
      "[I 2025-05-25 23:57:33,853] Trial 44 finished with value: 0.06567439005677456 and parameters: {'max_depth': 7, 'n_estimators': 637, 'learning_rate': 0.4315088061330466}. Best is trial 23 with value: 0.061991713978824636.\n",
      "[I 2025-05-25 23:57:34,260] Trial 45 finished with value: 0.07948442534908695 and parameters: {'max_depth': 5, 'n_estimators': 454, 'learning_rate': 0.0068981934947551895}. Best is trial 23 with value: 0.061991713978824636.\n",
      "[I 2025-05-25 23:57:34,347] Trial 46 finished with value: 0.2126745435016112 and parameters: {'max_depth': 3, 'n_estimators': 114, 'learning_rate': 9.350649228202258e-05}. Best is trial 23 with value: 0.061991713978824636.\n",
      "[I 2025-05-25 23:57:34,674] Trial 47 finished with value: 0.06705539358600587 and parameters: {'max_depth': 6, 'n_estimators': 319, 'learning_rate': 0.026815275726025874}. Best is trial 23 with value: 0.061991713978824636.\n",
      "[I 2025-05-25 23:57:35,003] Trial 48 finished with value: 0.06429338652754335 and parameters: {'max_depth': 8, 'n_estimators': 244, 'learning_rate': 0.0614771095439057}. Best is trial 23 with value: 0.061991713978824636.\n",
      "[I 2025-05-25 23:57:35,304] Trial 49 finished with value: 0.06383305201779965 and parameters: {'max_depth': 5, 'n_estimators': 398, 'learning_rate': 0.15655992521015066}. Best is trial 23 with value: 0.061991713978824636.\n"
     ]
    },
    {
     "name": "stdout",
     "output_type": "stream",
     "text": [
      "{'max_depth': 7, 'n_estimators': 279, 'learning_rate': 0.08256377663004782}\n"
     ]
    }
   ],
   "source": [
    "#Hyperparameter Optimization(Model Tuning)\n",
    "\n",
    "def objective(trial):\n",
    "    \n",
    "    data = credit_new2\n",
    "    X_train, X_test, y_train, y_test = train_test_split(X, y, test_size=0.2, random_state=1111)\n",
    "    params = {\n",
    "        'objective': 'binary:logistic',\n",
    "        'max_depth': trial.suggest_int('max_depth', 1, 9),\n",
    "        'n_estimators': trial.suggest_int('n_estimators', 10, 1000),\n",
    "        'learning_rate': trial.suggest_loguniform('learning_rate', 1e-8, 1.0),\n",
    "        'eval_metric' : 'error'\n",
    "    }\n",
    "    \n",
    "    clf_gbt = xgb.XGBClassifier(**params)\n",
    "    clf_gbt.fit(X_train, y_train)\n",
    "    \n",
    "    gbt_preds = clf_gbt.predict(X_test)\n",
    "    accuracy = accuracy_score(y_test, gbt_preds)\n",
    "\n",
    "    return (1-accuracy)\n",
    "\n",
    "if __name__ == '__main__':\n",
    "    study = optuna.create_study()\n",
    "    study.optimize(objective, n_trials=50)\n",
    "\n",
    "    print(study.best_params)\n",
    "   "
   ]
  },
  {
   "cell_type": "code",
   "execution_count": 161,
   "metadata": {
    "tags": []
   },
   "outputs": [
    {
     "name": "stdout",
     "output_type": "stream",
     "text": [
      "    loan_status  gbt_prob_default\n",
      "0       0.00000           0.01248\n",
      "1       0.00000           0.02232\n",
      "2       1.00000           0.13328\n",
      "3       1.00000           0.99957\n",
      "4       0.00000           0.04659\n",
      "5       0.00000           0.00176\n",
      "6       0.00000           0.26837\n",
      "7       1.00000           0.22766\n",
      "8       0.00000           0.04790\n",
      "9       0.00000           0.06196\n",
      "10      0.00000           0.11299\n",
      "11      0.00000           0.04060\n",
      "12      0.00000           0.04445\n",
      "13      0.00000           0.03442\n",
      "14      0.00000           0.03495\n",
      "15      0.00000           0.14703\n",
      "16      0.00000           0.11538\n",
      "17      0.00000           0.04362\n",
      "18      1.00000           0.99696\n",
      "19      1.00000           0.99504\n",
      "20      0.00000           0.02969\n",
      "21      0.00000           0.04786\n",
      "22      0.00000           0.00333\n",
      "23      1.00000           0.99954\n",
      "24      0.00000           0.00012\n",
      "25      0.00000           0.02947\n",
      "26      0.00000           0.00608\n",
      "27      0.00000           0.17911\n",
      "28      0.00000           0.08648\n",
      "29      1.00000           0.99128\n",
      "30      0.00000           0.04085\n",
      "31      0.00000           0.00005\n",
      "32      1.00000           0.06070\n",
      "33      1.00000           0.99862\n",
      "34      0.00000           0.00125\n",
      "35      0.00000           0.05617\n",
      "36      0.00000           0.03393\n",
      "37      0.00000           0.05903\n",
      "38      1.00000           0.99858\n",
      "39      0.00000           0.17412\n",
      "40      0.00000           0.00178\n",
      "41      0.00000           0.09223\n",
      "42      1.00000           0.67813\n",
      "43      0.00000           0.01440\n",
      "44      0.00000           0.00033\n",
      "45      0.00000           0.01907\n",
      "46      0.00000           0.04959\n",
      "47      0.00000           0.03550\n",
      "48      1.00000           0.99458\n",
      "49      0.00000           0.00033\n"
     ]
    }
   ],
   "source": [
    "params = study.best_params\n",
    "params['eval_metric'] = 'error'\n",
    "#Training the model\n",
    "clf_gbt = xgb.XGBClassifier(**study.best_params).fit(X_train, np.ravel(y_train))\n",
    "#Creating probability of predictions\n",
    "gbt_preds = clf_gbt.predict_proba(X_test)\n",
    "\n",
    "#Comparison of the true and predicted values\n",
    "preds_df = pd.DataFrame(gbt_preds[:,1], columns = ['gbt_prob_default'])\n",
    "true_df = y_test\n",
    "\n",
    "print(pd.concat([true_df.reset_index(drop = True), preds_df], axis = 1).head(50))"
   ]
  },
  {
   "cell_type": "markdown",
   "metadata": {},
   "source": [
    "<a id=\"section-nine\"></a>\n",
    "# Portfolio Performance"
   ]
  },
  {
   "cell_type": "code",
   "execution_count": 162,
   "metadata": {
    "tags": []
   },
   "outputs": [
    {
     "data": {
      "text/html": [
       "<div>\n",
       "<style scoped>\n",
       "    .dataframe tbody tr th:only-of-type {\n",
       "        vertical-align: middle;\n",
       "    }\n",
       "\n",
       "    .dataframe tbody tr th {\n",
       "        vertical-align: top;\n",
       "    }\n",
       "\n",
       "    .dataframe thead th {\n",
       "        text-align: right;\n",
       "    }\n",
       "</style>\n",
       "<table border=\"1\" class=\"dataframe\">\n",
       "  <thead>\n",
       "    <tr style=\"text-align: right;\">\n",
       "      <th></th>\n",
       "      <th>gbt_prob_default</th>\n",
       "      <th>lr_prob_default</th>\n",
       "      <th>loan_amount</th>\n",
       "    </tr>\n",
       "  </thead>\n",
       "  <tbody>\n",
       "    <tr>\n",
       "      <th>0</th>\n",
       "      <td>0.01248</td>\n",
       "      <td>0.03778</td>\n",
       "      <td>5375</td>\n",
       "    </tr>\n",
       "    <tr>\n",
       "      <th>1</th>\n",
       "      <td>0.02232</td>\n",
       "      <td>0.19378</td>\n",
       "      <td>8800</td>\n",
       "    </tr>\n",
       "    <tr>\n",
       "      <th>2</th>\n",
       "      <td>0.13328</td>\n",
       "      <td>0.09856</td>\n",
       "      <td>8000</td>\n",
       "    </tr>\n",
       "    <tr>\n",
       "      <th>3</th>\n",
       "      <td>0.99957</td>\n",
       "      <td>0.48708</td>\n",
       "      <td>5175</td>\n",
       "    </tr>\n",
       "    <tr>\n",
       "      <th>4</th>\n",
       "      <td>0.04659</td>\n",
       "      <td>0.32120</td>\n",
       "      <td>500</td>\n",
       "    </tr>\n",
       "  </tbody>\n",
       "</table>\n",
       "</div>"
      ],
      "text/plain": [
       "   gbt_prob_default  lr_prob_default  loan_amount\n",
       "0           0.01248          0.03778         5375\n",
       "1           0.02232          0.19378         8800\n",
       "2           0.13328          0.09856         8000\n",
       "3           0.99957          0.48708         5175\n",
       "4           0.04659          0.32120          500"
      ]
     },
     "execution_count": 162,
     "metadata": {},
     "output_type": "execute_result"
    }
   ],
   "source": [
    "#Portfolio Performance\n",
    "y_prob_df = pd.DataFrame(y_prob, columns = [\"lr_prob_default\"])\n",
    "portfolio = pd.concat([preds_df.reset_index(drop=True), y_prob_df], axis = 1)\n",
    "\n",
    "loans = X_test[\"loan_amnt\"]\n",
    "loans.reset_index(drop=True, inplace=True)\n",
    "portfolio[\"loan_amount\"] = loans\n",
    "portfolio.head()"
   ]
  },
  {
   "cell_type": "code",
   "execution_count": 163,
   "metadata": {
    "tags": []
   },
   "outputs": [
    {
     "data": {
      "text/html": [
       "<div>\n",
       "<style scoped>\n",
       "    .dataframe tbody tr th:only-of-type {\n",
       "        vertical-align: middle;\n",
       "    }\n",
       "\n",
       "    .dataframe tbody tr th {\n",
       "        vertical-align: top;\n",
       "    }\n",
       "\n",
       "    .dataframe thead th {\n",
       "        text-align: right;\n",
       "    }\n",
       "</style>\n",
       "<table border=\"1\" class=\"dataframe\">\n",
       "  <thead>\n",
       "    <tr style=\"text-align: right;\">\n",
       "      <th></th>\n",
       "      <th>gbt_prob_default</th>\n",
       "      <th>lr_prob_default</th>\n",
       "      <th>loan_amount</th>\n",
       "      <th>gbt_expected_loss</th>\n",
       "      <th>lr_expected_loss</th>\n",
       "    </tr>\n",
       "  </thead>\n",
       "  <tbody>\n",
       "    <tr>\n",
       "      <th>0</th>\n",
       "      <td>0.01248</td>\n",
       "      <td>0.03778</td>\n",
       "      <td>5375</td>\n",
       "      <td>13.41827</td>\n",
       "      <td>40.60846</td>\n",
       "    </tr>\n",
       "    <tr>\n",
       "      <th>1</th>\n",
       "      <td>0.02232</td>\n",
       "      <td>0.19378</td>\n",
       "      <td>8800</td>\n",
       "      <td>39.28164</td>\n",
       "      <td>341.04750</td>\n",
       "    </tr>\n",
       "    <tr>\n",
       "      <th>2</th>\n",
       "      <td>0.13328</td>\n",
       "      <td>0.09856</td>\n",
       "      <td>8000</td>\n",
       "      <td>213.24591</td>\n",
       "      <td>157.70018</td>\n",
       "    </tr>\n",
       "    <tr>\n",
       "      <th>3</th>\n",
       "      <td>0.99957</td>\n",
       "      <td>0.48708</td>\n",
       "      <td>5175</td>\n",
       "      <td>1034.55615</td>\n",
       "      <td>504.12861</td>\n",
       "    </tr>\n",
       "    <tr>\n",
       "      <th>4</th>\n",
       "      <td>0.04659</td>\n",
       "      <td>0.32120</td>\n",
       "      <td>500</td>\n",
       "      <td>4.65914</td>\n",
       "      <td>32.12025</td>\n",
       "    </tr>\n",
       "  </tbody>\n",
       "</table>\n",
       "</div>"
      ],
      "text/plain": [
       "   gbt_prob_default  lr_prob_default  loan_amount  gbt_expected_loss  \\\n",
       "0           0.01248          0.03778         5375           13.41827   \n",
       "1           0.02232          0.19378         8800           39.28164   \n",
       "2           0.13328          0.09856         8000          213.24591   \n",
       "3           0.99957          0.48708         5175         1034.55615   \n",
       "4           0.04659          0.32120          500            4.65914   \n",
       "\n",
       "   lr_expected_loss  \n",
       "0          40.60846  \n",
       "1         341.04750  \n",
       "2         157.70018  \n",
       "3         504.12861  \n",
       "4          32.12025  "
      ]
     },
     "execution_count": 163,
     "metadata": {},
     "output_type": "execute_result"
    }
   ],
   "source": [
    "#We assume that the loss given default(lgd) is 0,2 and it's constant.\n",
    "#Creating Expected Loss Columns\n",
    "lgd = 0.2\n",
    "portfolio[\"gbt_expected_loss\"] = portfolio[\"gbt_prob_default\"] * lgd * portfolio[\"loan_amount\"]\n",
    "portfolio[\"lr_expected_loss\"] = portfolio[\"lr_prob_default\"] * lgd * portfolio[\"loan_amount\"]\n",
    "\n",
    "portfolio.head()"
   ]
  },
  {
   "cell_type": "code",
   "execution_count": 164,
   "metadata": {
    "tags": []
   },
   "outputs": [
    {
     "name": "stdout",
     "output_type": "stream",
     "text": [
      "LR expected loss:  3078857.430597511\n"
     ]
    }
   ],
   "source": [
    "# Sum of the expected loss for lr\n",
    "print('LR expected loss: ', np.sum(portfolio['lr_expected_loss']))"
   ]
  },
  {
   "cell_type": "code",
   "execution_count": 165,
   "metadata": {
    "tags": []
   },
   "outputs": [
    {
     "name": "stdout",
     "output_type": "stream",
     "text": [
      "XGB expected loss:  2965881.0960164005\n"
     ]
    }
   ],
   "source": [
    "# Sum of the expected loss for gbt\n",
    "print('XGB expected loss: ', np.sum(portfolio['gbt_expected_loss']))"
   ]
  },
  {
   "cell_type": "code",
   "execution_count": 166,
   "metadata": {
    "tags": []
   },
   "outputs": [
    {
     "name": "stdout",
     "output_type": "stream",
     "text": [
      "64038.2906513419\n"
     ]
    }
   ],
   "source": [
    "LR_expected_loss =  3108547.5195690366\n",
    "GBT_expected_loss = 3044509.2289176947\n",
    "print(LR_expected_loss - GBT_expected_loss)"
   ]
  },
  {
   "cell_type": "code",
   "execution_count": 167,
   "metadata": {
    "tags": []
   },
   "outputs": [
    {
     "name": "stdout",
     "output_type": "stream",
     "text": [
      "              precision    recall  f1-score   support\n",
      "\n",
      " Non-Default       0.93      0.99      0.96      5131\n",
      "     Default       0.97      0.73      0.83      1386\n",
      "\n",
      "    accuracy                           0.94      6517\n",
      "   macro avg       0.95      0.86      0.90      6517\n",
      "weighted avg       0.94      0.94      0.93      6517\n",
      "\n"
     ]
    }
   ],
   "source": [
    "# Prediction labels for loan status\n",
    "gbt_preds = clf_gbt.predict(X_test)\n",
    "\n",
    "# Classification report of the model\n",
    "target_names = ['Non-Default', 'Default']\n",
    "print(classification_report(y_test, gbt_preds, target_names=target_names))\n",
    "\n",
    "#XGBoost model is superior than the logit model."
   ]
  },
  {
   "cell_type": "code",
   "execution_count": 168,
   "metadata": {
    "tags": []
   },
   "outputs": [
    {
     "name": "stdout",
     "output_type": "stream",
     "text": [
      "{'person_age': 1327.0, 'person_income': 2769.0, 'person_emp_length': 1321.0, 'loan_amnt': 1430.0, 'loan_int_rate': 2066.0, 'loan_percent_income': 1338.0, 'cb_person_cred_hist_length': 790.0, 'person_home_ownership_OTHER': 20.0, 'person_home_ownership_OWN': 206.0, 'person_home_ownership_RENT': 488.0, 'loan_intent_EDUCATION': 255.0, 'loan_intent_HOMEIMPROVEMENT': 276.0, 'loan_intent_MEDICAL': 293.0, 'loan_intent_PERSONAL': 242.0, 'loan_intent_VENTURE': 212.0, 'loan_grade_B': 141.0, 'loan_grade_C': 188.0, 'loan_grade_D': 216.0, 'loan_grade_E': 161.0, 'loan_grade_F': 96.0, 'loan_grade_G': 75.0, 'cb_person_default_on_file_Y': 200.0}\n"
     ]
    }
   ],
   "source": [
    "#Variable Importance for XGBoost\n",
    "\n",
    "print(clf_gbt.get_booster().get_score(importance_type = 'weight'))"
   ]
  },
  {
   "cell_type": "code",
   "execution_count": 169,
   "metadata": {
    "_kg_hide-input": true,
    "_kg_hide-output": true,
    "tags": []
   },
   "outputs": [],
   "source": [
    "#Cross Validation for XGBoost Model \n",
    "\n",
    "cv_results_accuracy= cross_val_score(clf_gbt, X,y,cv = 10, scoring = \"accuracy\")"
   ]
  },
  {
   "cell_type": "code",
   "execution_count": 170,
   "metadata": {
    "tags": []
   },
   "outputs": [
    {
     "data": {
      "text/plain": [
       "0.9078610283728622"
      ]
     },
     "execution_count": 170,
     "metadata": {},
     "output_type": "execute_result"
    }
   ],
   "source": [
    "cv_results_accuracy.mean()"
   ]
  },
  {
   "cell_type": "code",
   "execution_count": 171,
   "metadata": {
    "_kg_hide-output": true,
    "tags": []
   },
   "outputs": [],
   "source": [
    "cv_results_f1= cross_val_score(clf_gbt, X,y,cv = 10, scoring = \"f1\")\n"
   ]
  },
  {
   "cell_type": "code",
   "execution_count": 53,
   "metadata": {
    "execution": {
     "iopub.execute_input": "2022-01-29T09:18:58.924103Z",
     "iopub.status.busy": "2022-01-29T09:18:58.923368Z",
     "iopub.status.idle": "2022-01-29T09:18:58.932916Z",
     "shell.execute_reply": "2022-01-29T09:18:58.932183Z",
     "shell.execute_reply.started": "2022-01-29T09:18:58.924062Z"
    }
   },
   "outputs": [
    {
     "data": {
      "text/plain": [
       "0.7639207546323215"
      ]
     },
     "execution_count": 53,
     "metadata": {},
     "output_type": "execute_result"
    }
   ],
   "source": [
    "cv_results_f1.mean()"
   ]
  },
  {
   "cell_type": "code",
   "execution_count": 178,
   "metadata": {
    "_kg_hide-input": true,
    "_kg_hide-output": true,
    "tags": []
   },
   "outputs": [
    {
     "data": {
      "text/plain": [
       "0.9059672253046376"
      ]
     },
     "execution_count": 178,
     "metadata": {},
     "output_type": "execute_result"
    }
   ],
   "source": [
    "cv_results_roc= cross_val_score(clf_gbt, X,y,cv = 10, scoring = \"roc_auc\")\n",
    "cv_results_roc.mean()"
   ]
  },
  {
   "cell_type": "code",
   "execution_count": 180,
   "metadata": {
    "tags": []
   },
   "outputs": [
    {
     "name": "stdout",
     "output_type": "stream",
     "text": [
      "Logistic Regression AUC Score: 0.58\n",
      "Gradient Boosted Tree AUC Score: 0.86\n"
     ]
    }
   ],
   "source": [
    "#Comparing ROC AUC Scores of the Models (Hold-Out)\n",
    "\n",
    "clf_logistic_preds = logit_model.predict(X_test)\n",
    "clf_gbt_preds = clf_gbt.predict(X_test)\n",
    "\n",
    "# Print the logistic regression AUC with formatting\n",
    "print(\"Logistic Regression AUC Score: %0.2f\" % roc_auc_score(y_test, clf_logistic_preds))\n",
    "\n",
    "# Print the gradient boosted tree AUC with formatting\n",
    "print(\"Gradient Boosted Tree AUC Score: %0.2f\" % roc_auc_score(y_test, clf_gbt_preds))"
   ]
  },
  {
   "cell_type": "markdown",
   "metadata": {},
   "source": [
    "<a id=\"section-ten\"></a>\n",
    "# Credit Acceptance Rate"
   ]
  },
  {
   "cell_type": "code",
   "execution_count": 181,
   "metadata": {
    "tags": []
   },
   "outputs": [
    {
     "name": "stdout",
     "output_type": "stream",
     "text": [
      "count   6517.00000\n",
      "mean       0.20901\n",
      "std        0.33443\n",
      "min        0.00000\n",
      "25%        0.01412\n",
      "50%        0.05124\n",
      "75%        0.17725\n",
      "max        0.99998\n",
      "Name: gbt_prob_default, dtype: float64\n"
     ]
    }
   ],
   "source": [
    "#First we need to create a dataset which contains XGBoost's prob of defaults and actual loan status.\n",
    "\n",
    "gbt_preds = clf_gbt.predict_proba(X_test)\n",
    "\n",
    "preds_df = pd.DataFrame(gbt_preds[:,1], columns = ['gbt_prob_default'])\n",
    "true_df = y_test\n",
    "\n",
    "test_pred_df = pd.concat([true_df.reset_index(drop = True), preds_df], axis = 1)\n",
    "\n",
    "#Summary Statistics\n",
    "print(test_pred_df[\"gbt_prob_default\"].describe())"
   ]
  },
  {
   "cell_type": "code",
   "execution_count": 182,
   "metadata": {
    "tags": []
   },
   "outputs": [
    {
     "data": {
      "text/plain": [
       "0.686886966228484"
      ]
     },
     "execution_count": 182,
     "metadata": {},
     "output_type": "execute_result"
    }
   ],
   "source": [
    "#Assume that we want to accept the loans which have probability below 85% .\n",
    "#Threshold\n",
    "threshold_85 = np.quantile(test_pred_df['gbt_prob_default'], 0.85)\n",
    "threshold_85\n",
    "#So we will reject the loans above our threshold rate."
   ]
  },
  {
   "cell_type": "code",
   "execution_count": 183,
   "metadata": {
    "tags": []
   },
   "outputs": [
    {
     "name": "stdout",
     "output_type": "stream",
     "text": [
      "pred_loan_status\n",
      "0    5539\n",
      "1     978\n",
      "Name: count, dtype: int64\n"
     ]
    }
   ],
   "source": [
    "#Applying Acceptance Rate\n",
    "test_pred_df['pred_loan_status'] = test_pred_df['gbt_prob_default'].apply(lambda x: 1 if x > threshold_85 else 0)\n",
    "\n",
    "print(test_pred_df['pred_loan_status'].value_counts())"
   ]
  },
  {
   "cell_type": "code",
   "execution_count": 186,
   "metadata": {
    "tags": []
   },
   "outputs": [
    {
     "data": {
      "image/png": "[encoded data removed]",
      "text/plain": [
       "<Figure size 640x480 with 1 Axes>"
      ]
     },
     "metadata": {},
     "output_type": "display_data"
    }
   ],
   "source": [
    "#Visualizing the Acceptance Quantiles\n",
    "\n",
    "plt.hist(preds_df, color = 'steelblue', bins = 40)\n",
    "plt.axvline(x = threshold_85, color = 'tomato')\n",
    "plt.show()"
   ]
  },
  {
   "cell_type": "markdown",
   "metadata": {},
   "source": [
    "<a id=\"section-eleven\"></a>\n",
    "# Bad Rate\n",
    "\n"
   ]
  },
  {
   "cell_type": "code",
   "execution_count": 187,
   "metadata": {
    "tags": []
   },
   "outputs": [
    {
     "data": {
      "text/plain": [
       "0.07492327134861888"
      ]
     },
     "execution_count": 187,
     "metadata": {},
     "output_type": "execute_result"
    }
   ],
   "source": [
    "# Subset of only accepted loans\n",
    "accepted_loans = test_pred_df[test_pred_df['pred_loan_status'] == 0]\n",
    "\n",
    "# Calculation of the bad rate\n",
    "np.sum(accepted_loans['loan_status']) / accepted_loans['loan_status'].count()\n",
    "\n",
    "#This means that of all the loans we've decided to accept from the test set, only 7.5% were actual defaults."
   ]
  },
  {
   "cell_type": "markdown",
   "metadata": {},
   "source": [
    "<a id=\"section-twelve\"></a>\n",
    "# Credit Strategy and Strategy Table"
   ]
  },
  {
   "cell_type": "code",
   "execution_count": 188,
   "metadata": {
    "tags": []
   },
   "outputs": [
    {
     "name": "stdout",
     "output_type": "stream",
     "text": [
      "    Acceptance Rate  Threshold  Bad Rate\n",
      "0           1.00000    1.00000   0.21300\n",
      "1           0.95000    0.99500   0.16800\n",
      "2           0.90000    0.98300   0.12400\n",
      "3           0.85000    0.68700   0.07500\n",
      "4           0.80000    0.26400   0.05500\n",
      "5           0.75000    0.17700   0.04500\n",
      "6           0.70000    0.13100   0.03800\n",
      "7           0.65000    0.10000   0.03300\n",
      "8           0.60000    0.07900   0.02400\n",
      "9           0.55000    0.06200   0.02000\n",
      "10          0.50000    0.05100   0.01700\n",
      "11          0.45000    0.04200   0.01400\n",
      "12          0.40000    0.03300   0.01100\n",
      "13          0.35000    0.02600   0.00700\n",
      "14          0.30000    0.02000   0.00500\n",
      "15          0.25000    0.01400   0.00400\n",
      "16          0.20000    0.00800   0.00100\n",
      "17          0.15000    0.00300   0.00000\n",
      "18          0.10000    0.00100   0.00000\n",
      "19          0.05000    0.00000   0.00000\n"
     ]
    }
   ],
   "source": [
    "#Creating Strategy Table\n",
    "accept_rates = [1.0, 0.95, 0.9, 0.85, 0.8, 0.75, 0.7, 0.65, 0.6, 0.55, 0.5, 0.45, 0.4, 0.35, 0.3, 0.25, 0.2, 0.15, 0.1, 0.05]\n",
    "thresholds = []\n",
    "bad_rates = []\n",
    "# Populate the arrays for the strategy table with a for loop\n",
    "for rate in accept_rates:\n",
    "    # Calculation of the threshold for the acceptance rate\n",
    "    thresh = np.quantile(preds_df['gbt_prob_default'], rate).round(3)\n",
    "    # Adding the threshold value to the list of thresholds\n",
    "    thresholds.append(np.quantile(preds_df['gbt_prob_default'], rate).round(3))\n",
    "    # Reassigning the loan_status value using the threshold\n",
    "    test_pred_df['pred_loan_status'] = test_pred_df['gbt_prob_default'].apply(lambda x: 1 if x > thresh else 0)\n",
    "    # Set of accepted loans using this acceptance rate\n",
    "    accepted_loans = test_pred_df[test_pred_df[\"pred_loan_status\"] == 0]\n",
    "    # Calculate and append the bad rate using the acceptance rate\n",
    "    bad_rates.append(np.sum((accepted_loans[\"loan_status\"]) / len(accepted_loans[\"loan_status\"])).round(3))\n",
    "\n",
    "# Strategy table\n",
    "strat_df = pd.DataFrame(zip(accept_rates, thresholds, bad_rates),\n",
    "                        columns = ['Acceptance Rate','Threshold','Bad Rate'])\n",
    "print(strat_df)"
   ]
  },
  {
   "cell_type": "code",
   "execution_count": 189,
   "metadata": {
    "tags": []
   },
   "outputs": [
    {
     "data": {
      "image/png": "[encoded data removed]",
      "text/plain": [
       "<Figure size 640x480 with 1 Axes>"
      ]
     },
     "metadata": {},
     "output_type": "display_data"
    }
   ],
   "source": [
    "#Visualizing Strategy Table\n",
    "\n",
    "strat_df.boxplot()\n",
    "plt.show()"
   ]
  },
  {
   "cell_type": "code",
   "execution_count": 190,
   "metadata": {
    "tags": []
   },
   "outputs": [
    {
     "data": {
      "image/png": "[encoded data removed]",
      "text/plain": [
       "<Figure size 640x480 with 1 Axes>"
      ]
     },
     "metadata": {},
     "output_type": "display_data"
    }
   ],
   "source": [
    "#Visualizing The Strategy Curve\n",
    "plt.plot(strat_df[\"Acceptance Rate\"], strat_df[\"Bad Rate\"])\n",
    "plt.xlabel('Acceptance Rate')\n",
    "plt.ylabel('Bad Rate')\n",
    "plt.title('Acceptance and Bad Rates')\n",
    "\n",
    "plt.show()"
   ]
  },
  {
   "attachments": {
    "7e35355f-44e5-497b-b26f-a7dfcdcd0405.png": {
     "image/png": "[encoded data removed]"
    }
   },
   "cell_type": "markdown",
   "metadata": {},
   "source": [
    "![expectedf_loss.png](attachment:7e35355f-44e5-497b-b26f-a7dfcdcd0405.png)"
   ]
  },
  {
   "cell_type": "code",
   "execution_count": 191,
   "metadata": {
    "tags": []
   },
   "outputs": [
    {
     "data": {
      "text/html": [
       "<div>\n",
       "<style scoped>\n",
       "    .dataframe tbody tr th:only-of-type {\n",
       "        vertical-align: middle;\n",
       "    }\n",
       "\n",
       "    .dataframe tbody tr th {\n",
       "        vertical-align: top;\n",
       "    }\n",
       "\n",
       "    .dataframe thead th {\n",
       "        text-align: right;\n",
       "    }\n",
       "</style>\n",
       "<table border=\"1\" class=\"dataframe\">\n",
       "  <thead>\n",
       "    <tr style=\"text-align: right;\">\n",
       "      <th></th>\n",
       "      <th>Acceptance Rate</th>\n",
       "      <th>Threshold</th>\n",
       "      <th>Bad Rate</th>\n",
       "      <th>Num Accepted Loans</th>\n",
       "      <th>Avg Loan Amnt</th>\n",
       "      <th>Estimated Value</th>\n",
       "    </tr>\n",
       "  </thead>\n",
       "  <tbody>\n",
       "    <tr>\n",
       "      <th>0</th>\n",
       "      <td>1.00000</td>\n",
       "      <td>1.00000</td>\n",
       "      <td>0.21300</td>\n",
       "      <td>6517.00000</td>\n",
       "      <td>9539.22434</td>\n",
       "      <td>35683929.75000</td>\n",
       "    </tr>\n",
       "    <tr>\n",
       "      <th>1</th>\n",
       "      <td>0.95000</td>\n",
       "      <td>0.99500</td>\n",
       "      <td>0.16800</td>\n",
       "      <td>6191.15000</td>\n",
       "      <td>9539.22434</td>\n",
       "      <td>39215022.45000</td>\n",
       "    </tr>\n",
       "    <tr>\n",
       "      <th>2</th>\n",
       "      <td>0.90000</td>\n",
       "      <td>0.98300</td>\n",
       "      <td>0.12400</td>\n",
       "      <td>5865.30000</td>\n",
       "      <td>9539.22434</td>\n",
       "      <td>42074710.20000</td>\n",
       "    </tr>\n",
       "    <tr>\n",
       "      <th>3</th>\n",
       "      <td>0.85000</td>\n",
       "      <td>0.68700</td>\n",
       "      <td>0.07500</td>\n",
       "      <td>5539.45000</td>\n",
       "      <td>9539.22434</td>\n",
       "      <td>44915747.81250</td>\n",
       "    </tr>\n",
       "    <tr>\n",
       "      <th>4</th>\n",
       "      <td>0.80000</td>\n",
       "      <td>0.26400</td>\n",
       "      <td>0.05500</td>\n",
       "      <td>5213.60000</td>\n",
       "      <td>9539.22434</td>\n",
       "      <td>44262993.00000</td>\n",
       "    </tr>\n",
       "  </tbody>\n",
       "</table>\n",
       "</div>"
      ],
      "text/plain": [
       "   Acceptance Rate  Threshold  Bad Rate  Num Accepted Loans  Avg Loan Amnt  \\\n",
       "0          1.00000    1.00000   0.21300          6517.00000     9539.22434   \n",
       "1          0.95000    0.99500   0.16800          6191.15000     9539.22434   \n",
       "2          0.90000    0.98300   0.12400          5865.30000     9539.22434   \n",
       "3          0.85000    0.68700   0.07500          5539.45000     9539.22434   \n",
       "4          0.80000    0.26400   0.05500          5213.60000     9539.22434   \n",
       "\n",
       "   Estimated Value  \n",
       "0   35683929.75000  \n",
       "1   39215022.45000  \n",
       "2   42074710.20000  \n",
       "3   44915747.81250  \n",
       "4   44262993.00000  "
      ]
     },
     "execution_count": 191,
     "metadata": {},
     "output_type": "execute_result"
    }
   ],
   "source": [
    "#Calculation of Expected Losses\n",
    "strat_df[\"Num Accepted Loans\"] = len(y_test) * strat_df[\"Acceptance Rate\"]\n",
    "strat_df[\"Avg Loan Amnt\"] = X_test[\"loan_amnt\"].mean()\n",
    "strat_df[\"Estimated Value\"] = ((strat_df[\"Num Accepted Loans\"] - strat_df[\"Num Accepted Loans\"] * strat_df[\"Bad Rate\"]) * strat_df[\"Avg Loan Amnt\"]) - \\\n",
    "                              (strat_df[\"Num Accepted Loans\"] * strat_df[\"Bad Rate\"] * strat_df[\"Avg Loan Amnt\"])\n",
    "strat_df.head()"
   ]
  },
  {
   "cell_type": "code",
   "execution_count": 192,
   "metadata": {
    "tags": []
   },
   "outputs": [
    {
     "data": {
      "image/png": "[encoded data removed]",
      "text/plain": [
       "<Figure size 640x480 with 1 Axes>"
      ]
     },
     "metadata": {},
     "output_type": "display_data"
    }
   ],
   "source": [
    "#Line plot of estimated value\n",
    "plt.plot(strat_df[\"Acceptance Rate\"],strat_df[\"Estimated Value\"])\n",
    "plt.title('Estimated Value by Acceptance Rate')\n",
    "plt.xlabel('Acceptance Rate')\n",
    "plt.ylabel('Estimated Value')\n",
    "plt.show()\n"
   ]
  },
  {
   "attachments": {
    "70efba66-16be-4079-aeac-4a1e94341172.JPG": {
     "image/jpeg": "[encoded data removed]"
    }
   },
   "cell_type": "markdown",
   "metadata": {},
   "source": [
    "<a id=\"section-thirteen\"></a>\n",
    "# Total Expected Loss\n",
    "![teloss.JPG](attachment:70efba66-16be-4079-aeac-4a1e94341172.JPG)"
   ]
  },
  {
   "cell_type": "code",
   "execution_count": 193,
   "metadata": {
    "tags": []
   },
   "outputs": [
    {
     "name": "stdout",
     "output_type": "stream",
     "text": [
      "Total expected loss:  $11,863,524.19\n"
     ]
    }
   ],
   "source": [
    "#Total Expected Loss\n",
    "test_pred_df[\"loan_amnt\"] = X_test[\"loan_amnt\"]\n",
    "#Assume that loss given default is 0.8.\n",
    "test_pred_df[\"loss_given_default\"] = 0.8\n",
    "#Calculation of the Bank's Expected Loss\n",
    "test_pred_df[\"expected_loss\"] =  test_pred_df[\"gbt_prob_default\"] * test_pred_df[\"loan_amnt\"]\\\n",
    "                                * test_pred_df[\"loss_given_default\"]\n",
    "tot_exp_loss = round(np.sum(test_pred_df[\"expected_loss\"]),2)\n",
    "\n",
    "print('Total expected loss: ', '${:,.2f}'.format(tot_exp_loss))"
   ]
  },
  {
   "cell_type": "markdown",
   "metadata": {},
   "source": [
    "**Total expected loss:  $11,863,524.19.**\n",
    "**It may seem like a lot but it would be much higher with logistic regression.**\n",
    "**In conclusion, we can say that XGBoost model outperformed the logit model.**"
   ]
  },
  {
   "cell_type": "code",
   "execution_count": null,
   "metadata": {},
   "outputs": [],
   "source": []
  }
 ],
 "metadata": {
  "kernelspec": {
   "display_name": "Python 3 (ipykernel)",
   "language": "python",
   "name": "python3"
  },
  "language_info": {
   "codemirror_mode": {
    "name": "ipython",
    "version": 3
   },
   "file_extension": ".py",
   "mimetype": "text/x-python",
   "name": "python",
   "nbconvert_exporter": "python",
   "pygments_lexer": "ipython3",
   "version": "3.11.5"
  }
 },
 "nbformat": 4,
 "nbformat_minor": 4
}
